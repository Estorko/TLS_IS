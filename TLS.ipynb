{
 "cells": [
  {
   "attachments": {},
   "cell_type": "markdown",
   "metadata": {},
   "source": [
    "# Simulation of TLS handshake"
   ]
  },
  {
   "cell_type": "code",
   "execution_count": 169,
   "metadata": {},
   "outputs": [],
   "source": [
    "\"\"\" # Please remove the triple quotes in this line if the pip installation of the libraries is needed\n",
    "import warnings\n",
    "warnings.filterwarnings('ignore')\n",
    "warnings.simplefilter('ignore')\n",
    "%pip install pycryptodome\n",
    "%pip install cryptography\n",
    "%pip install requests --disable-pip-version-check \"\"\";"
   ]
  },
  {
   "attachments": {},
   "cell_type": "markdown",
   "metadata": {},
   "source": [
    "**Client side**\n",
    "\n",
    "The client generates a nonce of size 32 bytes. The client sends the nonce to the server along with a flag that is set to 1 if RSA will be used for key exchange, and set to zero if Diffie-Hellman will be used"
   ]
  },
  {
   "cell_type": "code",
   "execution_count": 170,
   "metadata": {},
   "outputs": [],
   "source": [
    "import random\n",
    "from Crypto.Random import get_random_bytes\n",
    "\n",
    "def getClientNonce():\n",
    "    # generate random nonce, size 32 bytes → 256-bit\n",
    "    global nonce_client \n",
    "    nonce_client= get_random_bytes(32)    #RB\n",
    "    # specify exchange method → 0=Diffie-Hellman / 1=RSA\n",
    "    exchange_method_client=random.randint(0,1)\n",
    "    print('__________________'*6,'\\n'+\"Nonce-client: \",'\\n',nonce_client,'\\n')\n",
    "    print(\"Exchange method-client:\",exchange_method_client,'__________________'*6)"
   ]
  },
  {
   "attachments": {},
   "cell_type": "markdown",
   "metadata": {},
   "source": [
    "**Server side**\n",
    "\n",
    "The server responds with another nonce of size 32 bytes and a flag indicating the choice of key exchange algorithm."
   ]
  },
  {
   "cell_type": "code",
   "execution_count": 171,
   "metadata": {},
   "outputs": [],
   "source": [
    "def getServerNonce():\n",
    "    # generate random nonce, size 32 bytes → 256-bit\n",
    "    global nonce_server \n",
    "    nonce_server= get_random_bytes(32)     #RS\n",
    "    # specify exchange method → 0=Diffie-Hellman / 1=RSA\n",
    "    global exchange_method_server\n",
    "    exchange_method_server=random.randint(0,1)\n",
    "    print(\"Nonce-server: \",'\\n',nonce_server,'\\n')\n",
    "    if exchange_method_server==1:\n",
    "        print(\"Exchange method-server that was chosen: RSA\",'\\n'+'__________________'*6)\n",
    "    else:\n",
    "        print(\"Exchange method-server that was chosen: Diffie-Hellman\",'\\n'+'__________________'*6)"
   ]
  },
  {
   "attachments": {},
   "cell_type": "markdown",
   "metadata": {},
   "source": [
    "**Generate RSA KEY pair**\n",
    "\n",
    "The server randomly generates a pair of RSA public/private keys and sends to the client {public key, hash(public key)}. This constitutes the certificate."
   ]
  },
  {
   "cell_type": "code",
   "execution_count": 172,
   "metadata": {},
   "outputs": [],
   "source": [
    "from Crypto.PublicKey import RSA\n",
    "def generateRSA_key():\n",
    "    # generate RSA key pair\n",
    "    global key \n",
    "    key= RSA.generate(2048)\n",
    "    global publickey\n",
    "    publickey = key.publickey()     # for later use (public key)\n",
    "    pu_key=key.publickey().exportKey()\n",
    "    # private key\n",
    "    priv_key=key.exportKey()\n",
    "    # print(\"Generated Public Key: \",'\\n',pu_key.decode(),'\\n'+'__________________'*6)\n",
    "    # print(priv_key.decode())  #private key"
   ]
  },
  {
   "attachments": {},
   "cell_type": "markdown",
   "metadata": {},
   "source": [
    "**Key hashing-server**"
   ]
  },
  {
   "cell_type": "code",
   "execution_count": 173,
   "metadata": {},
   "outputs": [],
   "source": [
    "import hashlib\n",
    "from hashlib import sha256\n",
    "\n",
    "def hashKey_server(key):\n",
    "    # Hash key \n",
    "    global pk_client\n",
    "    pk_client=key.public_key().export_key()\n",
    "    my_sha = hashlib.sha256(pk_client)\n",
    "    global hash_client \n",
    "    hash_client= int.from_bytes(my_sha.digest(),byteorder='big')\n",
    "    print(\"Sent to client: {public key, hash(public key)} \",'\\n'+'↓↓↓↓↓↓↓↓↓↓↓↓','\\n')\n",
    "    print(\"Public key :\",'\\n',pk_client.decode(),'\\n')\n",
    "    print(\"Generated hash :\",hash_client,'\\n'+'__________________'*6)"
   ]
  },
  {
   "attachments": {},
   "cell_type": "markdown",
   "metadata": {},
   "source": [
    "**Key re-hashing-client**"
   ]
  },
  {
   "attachments": {},
   "cell_type": "markdown",
   "metadata": {},
   "source": [
    "Client re-hashes the public key and and compares with the hash that is sent. If they match the client proceeds to Step 5. Otherwise, the process ends here with an error message."
   ]
  },
  {
   "cell_type": "code",
   "execution_count": 174,
   "metadata": {},
   "outputs": [],
   "source": [
    "def keyReHash_client_check(pk_client,hash_client):\n",
    "    # re-Hash key\n",
    "    global out\n",
    "    out=False\n",
    "    my_sha = hashlib.sha256(pk_client)\n",
    "    hash_server = int.from_bytes(my_sha.digest(),byteorder='big')\n",
    "    if (hash_client==hash_server):\n",
    "        out=True\n",
    "        print(\"The client re-hashed the public key and Hashes match, process continues → \",'\\n'+'__________________'*6)\n",
    "    else:\n",
    "        print(\"Hashes missmatch !\",'\\n'+'__________________'*6)"
   ]
  },
  {
   "attachments": {},
   "cell_type": "markdown",
   "metadata": {},
   "source": [
    "# RSA-TLS"
   ]
  },
  {
   "attachments": {},
   "cell_type": "markdown",
   "metadata": {},
   "source": [
    "In case RSA was chosen, then the client will generate a pre-master secret and encrypt it with the public key of the server that was already sent over by the server.\n",
    "\n",
    "In RSA key exchange the public key is used in the client to encrypt the pre-master secret and the private key is used in the server to decrypt it."
   ]
  },
  {
   "attachments": {},
   "cell_type": "markdown",
   "metadata": {},
   "source": [
    "# RSA - generate Pre-master-secret (PS) and encrypt it "
   ]
  },
  {
   "cell_type": "code",
   "execution_count": 175,
   "metadata": {},
   "outputs": [],
   "source": [
    "from Crypto.Cipher import PKCS1_OAEP\n",
    "def PS_encrypt_RS(publickey):\n",
    "    # encrypt the Pre-master secret with the public key of the server\n",
    "    encryptor = PKCS1_OAEP.new(publickey)\n",
    "    # generate pre-master secret\n",
    "    global pre_masterSecret_client \n",
    "    pre_masterSecret_client= get_random_bytes(32)     #PS generated from the client \n",
    "    global pre_masterSecret_server \n",
    "    pre_masterSecret_server= get_random_bytes(32)     #PS generated from the server \n",
    "    encrypted = encryptor.encrypt(pre_masterSecret_client) # encrypt the PS\n",
    "    print(\"Pre-master secret - Client: \",pre_masterSecret_client,'\\n'+'__________________'*6)\n",
    "    print(\"Pre-master secret - Server: \",pre_masterSecret_server,'\\n'+'__________________'*6)\n",
    "    print(\"Encrypted Pre-master secret with server public key: \",encrypted,'\\n'+'__________________'*6)"
   ]
  },
  {
   "attachments": {},
   "cell_type": "markdown",
   "metadata": {},
   "source": [
    "The server will decrypt it using his private key and validate the results"
   ]
  },
  {
   "attachments": {},
   "cell_type": "markdown",
   "metadata": {},
   "source": [
    "# RSA - generate communication keys (CC,CS,IC,IS)"
   ]
  },
  {
   "cell_type": "code",
   "execution_count": 176,
   "metadata": {},
   "outputs": [],
   "source": [
    "import hmac\n",
    "import os\n",
    "def gen_communicationKeys(pre_masterSecret_client,pre_masterSecret_server,nonce_client,nonce_server):\n",
    "    # master secret generated at the client side (CC -Cipher client)\n",
    "    def prf(secret,seed,numblocks):\n",
    "        seed=seed\n",
    "        output = b''\n",
    "        a=hmac.new(secret,msg=seed,digestmod=hashlib.sha256).digest()\n",
    "        for j in range(numblocks):\n",
    "            output += hmac.new(secret,msg=a+seed,digestmod=hashlib.sha256).digest()\n",
    "            a=hmac.new(secret,msg=a,digestmod=hashlib.sha256).digest()\n",
    "        return output\n",
    "\n",
    "    def master_secret(pms,client_random,server_random):\n",
    "        out=prf(pms,client_random+server_random,2)\n",
    "        return out[:48]\n",
    "\n",
    "    global cipher_client\n",
    "    cipher_client=prf(pre_masterSecret_client,nonce_client+nonce_server,1)\n",
    "    global cipher_server\n",
    "    cipher_server=prf(pre_masterSecret_server,nonce_client+nonce_server,1)\n",
    "    global IC \n",
    "    IC= os.urandom(32) \n",
    "    global IS \n",
    "    IS= os.urandom(32) \n",
    "    print(\"Cipher Client - CC: \",'\\n',cipher_client,'\\n'+'__________________'*6)\n",
    "    print(\"Cipher Server - CS: \",'\\n',cipher_server,'\\n'+'__________________'*6)\n",
    "    print(\"Integral Key Client - IC: \",'\\n',IC,'\\n'+'__________________'*6)\n",
    "    print(\"Integral Key Server - IS: \",'\\n',IS,'\\n'+'__________________'*6)"
   ]
  },
  {
   "attachments": {},
   "cell_type": "markdown",
   "metadata": {},
   "source": [
    "# Diffie-Hellman TLS"
   ]
  },
  {
   "cell_type": "code",
   "execution_count": 177,
   "metadata": {},
   "outputs": [],
   "source": [
    "import random\n",
    "def gen_PS_DH():\n",
    "    p = random.randint(1, 100)\n",
    "    g = random.randint(1, 100)\n",
    "    a = random.randint(1, 100)\n",
    "    b = random.randint(1, 100)\n",
    "    A = ((pow(g, a)) % p)           \n",
    "    B = ((pow(g, b)) % p)\n",
    "    global pre_master_client \n",
    "    pre_master_client= ((pow(B, a)) % p)\n",
    "    global pre_master_server \n",
    "    pre_master_server= ((pow(A, b)) % p)\n",
    "    print(\"Pre-master secret - Client: \", str(pre_master_client),'\\n'+'__________________'*6)\n",
    "    print(\"Pre-master secret - Server: \",str(pre_master_server),'\\n'+'__________________'*6)"
   ]
  },
  {
   "cell_type": "code",
   "execution_count": 178,
   "metadata": {},
   "outputs": [],
   "source": [
    "def DH_exchange():\n",
    "    gen_PS_DH()\n",
    "    global MC_str\n",
    "    MC_str=str(pre_master_client).encode()\n",
    "    global MS_str\n",
    "    MS_str=str(pre_master_server).encode()\n",
    "    def gen_communicationKeys_DH(MC_str,MS_str,nonce_client,nonce_server):\n",
    "            # master secret generated at the client side (CC -Cipher client)\n",
    "        def prf(secret,seed,numblocks):\n",
    "            seed=seed\n",
    "            output = b''\n",
    "            a=hmac.new(secret,msg=seed,digestmod=hashlib.sha256).digest()\n",
    "            for j in range(numblocks):\n",
    "                output += hmac.new(secret,msg=a+seed,digestmod=hashlib.sha256).digest()\n",
    "                a=hmac.new(secret,msg=a,digestmod=hashlib.sha256).digest()\n",
    "            return output\n",
    "\n",
    "        def master_secret(pms,client_random,server_random):\n",
    "            out=prf(pms,client_random+server_random,2)\n",
    "            return out[:48]\n",
    "\n",
    "        global cipher_client_DH\n",
    "        cipher_client_DH=prf(MC_str,nonce_client+nonce_server,1)\n",
    "        global cipher_server_DH\n",
    "        cipher_server_DH=prf(MS_str,nonce_client+nonce_server,1)\n",
    "        global IC_DH \n",
    "        IC_DH= os.urandom(32) \n",
    "        global IS_DH \n",
    "        IS_DH= os.urandom(32) \n",
    "        print(\"Cipher Client - CC: \",'\\n',cipher_client_DH,'\\n'+'__________________'*6)\n",
    "        print(\"Cipher Server - CS: \",'\\n',cipher_server_DH,'\\n'+'__________________'*6)\n",
    "        print(\"Integral Key Client - IC: \",'\\n',IC_DH,'\\n'+'__________________'*6)\n",
    "        print(\"Integral Key Server - IS: \",'\\n',IS_DH,'\\n'+'__________________'*6)\n",
    "    gen_communicationKeys_DH(MC_str,MS_str,nonce_client,nonce_server)"
   ]
  },
  {
   "attachments": {},
   "cell_type": "markdown",
   "metadata": {},
   "source": [
    "The client the sends the server hash(nonce_client, nonce_server, premaster secret, CC, IC). The server sends to the client hash(nonce_client, nonce_server, premaster secret, CS, IS). Each side will verify the values they received and print either a success or failure message\n"
   ]
  },
  {
   "cell_type": "code",
   "execution_count": 179,
   "metadata": {},
   "outputs": [],
   "source": [
    "def verify_values_hash():\n",
    "    sha_client = hashlib.sha256()\n",
    "    sha_server = hashlib.sha256()\n",
    "    if exchange_method_server==1: #RSA\n",
    "        # client → server\n",
    "        sha_client.update(pre_masterSecret_client)\n",
    "        sha_client.update(nonce_client)\n",
    "        sha_client.update(nonce_server)\n",
    "        sha_client.update(cipher_client)\n",
    "        sha_client.update(IC)   \n",
    "        # server → client\n",
    "        sha_server.update(pre_masterSecret_server)\n",
    "        sha_server.update(nonce_client)\n",
    "        sha_server.update(nonce_server)\n",
    "        sha_server.update(cipher_server)\n",
    "        sha_server.update(IS)\n",
    "        print(\"Client hash: \",'\\n',sha_client.digest(),'\\n'+'__________________'*6)\n",
    "        print(\"Server hash: \",'\\n',sha_server.digest(),'\\n'+'__________________'*6)\n",
    "    else: #DH\n",
    "        # client → server\n",
    "        sha_client.update(MC_str)\n",
    "        sha_client.update(nonce_client)\n",
    "        sha_client.update(nonce_server)\n",
    "        sha_client.update(cipher_client_DH)\n",
    "        sha_client.update(IC_DH) \n",
    "        # server → client \n",
    "        sha_server.update(MS_str)\n",
    "        sha_server.update(nonce_client)\n",
    "        sha_server.update(nonce_server)\n",
    "        sha_server.update(cipher_server_DH)\n",
    "        sha_server.update(IS_DH)\n",
    "        print(\"Client hash: \",'\\n',sha_client.digest(),'\\n'+'__________________'*6)\n",
    "        print(\"Server hash: \",'\\n',sha_server.digest(),'\\n'+'__________________'*6)\n",
    "    if sha_client==sha_server:\n",
    "        print(\"SUCCESS !!!!\")\n",
    "    else:\n",
    "        print(\"FAILURE !!!!\")"
   ]
  },
  {
   "cell_type": "code",
   "execution_count": 180,
   "metadata": {},
   "outputs": [
    {
     "name": "stdout",
     "output_type": "stream",
     "text": [
      "____________________________________________________________________________________________________________ \n",
      "Nonce-client:  \n",
      " b'\\xb3\\x94\\xf0\\xd2\\xcc\\xe8;}Du_\\xb2j3\\x7f\\x84.\\xf9\\xab\\x14\\xcf\\xfd\\x0b\\xe6\\xe2\\xe6\\x06\\x17\\x84q8+' \n",
      "\n",
      "Exchange method-client: 1 ____________________________________________________________________________________________________________\n",
      "Nonce-server:  \n",
      " b'_\\x01`\\xa0\\xf8\\xa8<\\xf6\\x1d\\x94\\x96\\xcc\\x07\\x1f!g\\xf1\\x10\\xba\\xa6\\x95\\xb8H#\\xe9Mx\\xa7S*\\xf1\\x94' \n",
      "\n",
      "Exchange method-server that was chosen: RSA \n",
      "____________________________________________________________________________________________________________\n",
      "Sent to client: {public key, hash(public key)}  \n",
      "↓↓↓↓↓↓↓↓↓↓↓↓ \n",
      "\n",
      "Public key : \n",
      " -----BEGIN PUBLIC KEY-----\n",
      "MIIBIjANBgkqhkiG9w0BAQEFAAOCAQ8AMIIBCgKCAQEAswxx7AQVEfNIgFrkHe+j\n",
      "PDm45bk3N8/6oYu8nfwOMv+r+un8uM1wSpWmoybvpzp5Zg3E7EqmfEWz/bpf9PS6\n",
      "5377Flk9a+14o/42LTTxQzjNKGrZZX7bTa5advvpkjHYYa7atypNVq190T1GU56E\n",
      "/kxjiVtjagSV9aHOKbLBIiWX1WQnUFFR2ke/G40ZpzyBbJ8fAJpasrT/NodPDVI5\n",
      "1rD672SU0j3pveisHWrSQckv7X+tLqV7YLwn4aUZ7qSyODhldSpBpzNHu87N6ixg\n",
      "Sj1pHvEVft31OI9/1wU+4xnZjUEOvIYQBn2wY6GJGEPtSiGhKCdCdoevd/p+BvoD\n",
      "6wIDAQAB\n",
      "-----END PUBLIC KEY----- \n",
      "\n",
      "Generated hash : 986377168996337951419406536434311704798678648812812815703053549606264053656 \n",
      "____________________________________________________________________________________________________________\n",
      "The client re-hashed the public key and Hashes match, process continues →  \n",
      "____________________________________________________________________________________________________________\n",
      "Pre-master secret - Client:  b'\\x96\\xb0t&\\xa7\\xd8L\\xfev\\x9d<\\xaf\\xff\\xef\\x08\\xbf\\xc9*S\\xab5\\x95\"\\xedKil\\xf4F\\x1b\\x93\\x10' \n",
      "____________________________________________________________________________________________________________\n",
      "Pre-master secret - Server:  b\"\\xdf\\xd7\\xabjx\\xb1\\x95\\xec\\r\\x03\\x08~'\\x14;P\\xcc,\\x03\\x83\\x86u\\xec\\xb8\\xfe\\xe2\\xc3-g\\xfd\\x16\\x9c\" \n",
      "____________________________________________________________________________________________________________\n",
      "Encrypted Pre-master secret with server public key:  b\"/.\\xc8\\x7f\\x9c\\xea\\x0bD}\\x7fkx.B\\xe0\\xffP\\x10\\xb9W*\\xdcH[\\xd4\\x8bsW=f\\xef\\xeb\\xf9\\xf0\\xa2\\\\{0`#\\xeeF`\\xb9\\x996\\x10\\xa2\\xe2\\xd0\\xd8\\xf6\\xdfHC\\xd5.V\\x8d\\xf8\\x9fM\\xe2.\\xbb\\x1cIew\\xfd\\xcdva\\x9d\\xa6\\x89]\\xcf\\xcc\\xf1\\xc6mR\\xd3\\xd3\\xa01\\x8a<\\x9a\\xd5]QF\\xc5q\\x14\\x08sr\\xaf\\xc5\\xabK|\\xf5\\x85Hp\\xd2\\xba\\x08G\\xed\\xb6\\xe3\\xa2\\x86\\x98\\xefj\\x0f\\xe9\\x85\\xe6\\x1aq]\\xa9\\x19\\x9e\\xa0m\\x12\\xa0\\xa745Z'\\xf1\\x10\\x14\\xa4n\\xb50\\x9b\\x82>[\\x80(\\x82)\\xa4\\x9d\\xf0v;\\xeb\\x1f<\\xcfIxLVN\\xc5\\x04\\xb3\\xb3\\xa8j\\xa2\\xa6\\xbe\\x1d\\x96E\\x15\\xf5\\xe8\\x83&\\xe3\\xd3\\x15g\\x7f\\x8bh\\xe4\\x04;\\x02\\x9dE8\\x90?\\x97\\xf4\\xf8\\x1d\\x90X\\xd9s|\\xf0\\x12\\x1e?\\xb3\\xed)(/Qj\\x9b\\x96h\\xe341\\x9d\\x8f(\\xdf\\x05\\xfb\\xe5*\\x07<\\x9b\\xc6\\x9f\\xec|\\x04+s\\x1c\\xcf\\xa1\\xcb5`\\rZT\\x12\" \n",
      "____________________________________________________________________________________________________________\n",
      "Cipher Client - CC:  \n",
      " b'\\xdf\\x87t\\x15K\\r\\xa3X\\xfbM\\x9f\\x9f#\\x7f\\xf9\\x0btZ\\xc6\\x1f~\\x81\\xfc\\xb6\\xa1r\\x1a\\xebl\\xc4\\xff\\xf7' \n",
      "____________________________________________________________________________________________________________\n",
      "Cipher Server - CS:  \n",
      " b'\\x84t\\x04\\xa0\\x80\\xbb\\x8f\\x1e\\x9f\\xf7\\xf1\\xe1\\x01SU3T\\xe8Ws\\xb2\\xbdq\\x187l\\xabZ\\xa7\\xf9\\xbe\\xcc' \n",
      "____________________________________________________________________________________________________________\n",
      "Integral Key Client - IC:  \n",
      " b'\\x94\\x18\\xdf\\xd7S\\xf3\\xbc\\xb8<i\\x81\\xf6A[0e\\x88\\xaf(l\\xa9\\xdb3:\\x0c>\\xceV\\xbb<\\xfdg' \n",
      "____________________________________________________________________________________________________________\n",
      "Integral Key Server - IS:  \n",
      " b'\\x01E\\x9cZ\\xda\\xda~s\\xdd\\xf9,\\xcc\\xab\\xd6\\xe7\\xba\\xdf\\x01fv\\x03\\xc8C\\x95\\xd6C\\xf4f_\\x19\\x16h' \n",
      "____________________________________________________________________________________________________________\n",
      "Client hash:  \n",
      " b'6\\xfcs\\xabR\\n\\xa9\\xa3\\xd0\\x9b\\x89\\xe3\\xb3\\xf5\\xdelB]\\xcc\\xac9\\xc0\\xacw$l^Ba \\nt' \n",
      "____________________________________________________________________________________________________________\n",
      "Server hash:  \n",
      " b'\\xe7\\xfc\\x8c>\\xad\\x08\\xf7\\xd7\\r=\\xb4\\xf7\\r\\xf5\\xb2\\xff\\x05Z\\x0eS\\xa8[\\xdaoM\\x87\\\\L\\xa8x\\x83}' \n",
      "____________________________________________________________________________________________________________\n",
      "FAILURE !!!!\n"
     ]
    }
   ],
   "source": [
    "def TLS_handshake():\n",
    "    getClientNonce()\n",
    "    getServerNonce()\n",
    "    generateRSA_key()\n",
    "    hashKey_server(key)\n",
    "    keyReHash_client_check(pk_client,hash_client)\n",
    "    if out==True:\n",
    "        if exchange_method_server==1:\n",
    "            PS_encrypt_RS(publickey)\n",
    "            gen_communicationKeys(pre_masterSecret_client,pre_masterSecret_server,nonce_client,nonce_server)\n",
    "        else:\n",
    "            DH_exchange()\n",
    "        verify_values_hash()\n",
    "    else:\n",
    "        print('The hashes missmatch, process stopped !')\n",
    "TLS_handshake()"
   ]
  }
 ],
 "metadata": {
  "kernelspec": {
   "display_name": "Python 3",
   "language": "python",
   "name": "python3"
  },
  "language_info": {
   "codemirror_mode": {
    "name": "ipython",
    "version": 3
   },
   "file_extension": ".py",
   "mimetype": "text/x-python",
   "name": "python",
   "nbconvert_exporter": "python",
   "pygments_lexer": "ipython3",
   "version": "3.10.7"
  },
  "orig_nbformat": 4,
  "vscode": {
   "interpreter": {
    "hash": "369f2c481f4da34e4445cda3fffd2e751bd1c4d706f27375911949ba6bb62e1c"
   }
  }
 },
 "nbformat": 4,
 "nbformat_minor": 2
}
