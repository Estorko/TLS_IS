{
 "cells": [
  {
   "attachments": {},
   "cell_type": "markdown",
   "metadata": {},
   "source": [
    "# Simulation of TLS"
   ]
  },
  {
   "cell_type": "code",
   "execution_count": 138,
   "metadata": {},
   "outputs": [],
   "source": [
    "\"\"\" # Please remove the triple quotes in this line if the pip installation of the libraries is needed\n",
    "import warnings\n",
    "warnings.filterwarnings('ignore')\n",
    "warnings.simplefilter('ignore')\n",
    "%pip install pycryptodome\n",
    "%pip install cryptography\n",
    "%pip install requests --disable-pip-version-check \"\"\";"
   ]
  },
  {
   "attachments": {},
   "cell_type": "markdown",
   "metadata": {},
   "source": [
    "1. Client side"
   ]
  },
  {
   "cell_type": "code",
   "execution_count": 139,
   "metadata": {},
   "outputs": [
    {
     "name": "stdout",
     "output_type": "stream",
     "text": [
      "Nonce-client:  b'fr\\xf4\\x19\\x99\\xb1\\xa1\\xf6\\xfa1\\xe0\\xaa\\xf1\\xcd\\x19\\x00\\x1ckZ\\xec\\rO\\xd1\\xb0\\xb3\\xd2\\xec\\xd1q\\x82\\x85\\x11'\n",
      "Exchange method-client: 0\n"
     ]
    }
   ],
   "source": [
    "import random\n",
    "from Crypto.Random import get_random_bytes\n",
    "\n",
    "# generate random nonce, size 32 bytes\n",
    "nonce_client = get_random_bytes(32)\n",
    "# specify exchange method → 0=Diffie-Hellman / 1=RSA\n",
    "exchange_method_client=random.randint(0,1)\n",
    "print(\"Nonce-client: \",nonce_client)\n",
    "print(\"Exchange method-client:\",exchange_method_client)"
   ]
  },
  {
   "attachments": {},
   "cell_type": "markdown",
   "metadata": {},
   "source": [
    "2. Server side"
   ]
  },
  {
   "cell_type": "code",
   "execution_count": 140,
   "metadata": {},
   "outputs": [
    {
     "name": "stdout",
     "output_type": "stream",
     "text": [
      "Nonce-server:  b\"\\x1dY\\xf7\\\\\\\\=[%\\xd8E\\xd7\\x81'^\\xcdr\\xb6\\xaa\\xc9\\xad+$[\\xe9\\xb0\\xfdIr\\xd8\\x16\\xa02\"\n",
      "Exchange method-server: 1\n"
     ]
    }
   ],
   "source": [
    "# generate random nonce, size 32 bytes\n",
    "nonce_server = get_random_bytes(32)\n",
    "# specify exchange method → 0=Diffie-Hellman / 1=RSA\n",
    "exchange_method_server=random.randint(0,1)\n",
    "print(\"Nonce-server: \",nonce_server)\n",
    "print(\"Exchange method-server:\",exchange_method_server)"
   ]
  },
  {
   "attachments": {},
   "cell_type": "markdown",
   "metadata": {},
   "source": [
    "Generate RSA KEY pair"
   ]
  },
  {
   "cell_type": "code",
   "execution_count": 141,
   "metadata": {},
   "outputs": [
    {
     "name": "stdout",
     "output_type": "stream",
     "text": [
      "b'-----BEGIN PUBLIC KEY-----\\nMIIBIjANBgkqhkiG9w0BAQEFAAOCAQ8AMIIBCgKCAQEA3xIPjckWxunxicuAngIK\\n2IDJN5vAxOTsdyG+ZsX0Bule4gZ33DpUaxcZDB3ATVNhm+Ok6Lt3JUVm+w8/WN4Z\\n0Ld2IbG25ls7YReh8lNBIrdFeMUJF6gWbZZoB8jctECe9ZjBMNx5JAXvzAlEJVdg\\nMF+jDC8FMMDwLP7mAfuIGwjoHJGbu5JsIzrb1RGsPadfInpmurKTdN88mp0/dH+8\\nEYNhqQhutgF2id4Fbj8cgX+4LKK1fzF62LQAUUyuVbpJ7rDTDbn3mdsK8MtYznKn\\nDZ3tJ4vPPkMAeuoDo9lHzuFdWA+lYzpHZM7d0/XUoZqrIs29mfu6algb1phYtj6c\\niQIDAQAB\\n-----END PUBLIC KEY-----'\n"
     ]
    }
   ],
   "source": [
    "from Crypto.PublicKey import RSA\n",
    "# generate RSA key pair\n",
    "key = RSA.generate(2048)\n",
    "print(key.public_key().export_key())\n",
    "# print(f\"Public key:  (n={hex(key.n)}, e={hex(key.e)})\")\n",
    "# print(f\"Private key: (n={hex(key.n)}, d={hex(key.d)})\")"
   ]
  },
  {
   "attachments": {},
   "cell_type": "markdown",
   "metadata": {},
   "source": [
    "Key hashing"
   ]
  },
  {
   "cell_type": "code",
   "execution_count": 142,
   "metadata": {},
   "outputs": [
    {
     "name": "stdout",
     "output_type": "stream",
     "text": [
      "Sent to client: {public key, hash(public key)}.  \n",
      "↓↓↓↓↓↓↓↓↓↓↓↓ \n",
      "\n",
      "Public key : \n",
      " -----BEGIN PUBLIC KEY-----\n",
      "MIIBIjANBgkqhkiG9w0BAQEFAAOCAQ8AMIIBCgKCAQEA3xIPjckWxunxicuAngIK\n",
      "2IDJN5vAxOTsdyG+ZsX0Bule4gZ33DpUaxcZDB3ATVNhm+Ok6Lt3JUVm+w8/WN4Z\n",
      "0Ld2IbG25ls7YReh8lNBIrdFeMUJF6gWbZZoB8jctECe9ZjBMNx5JAXvzAlEJVdg\n",
      "MF+jDC8FMMDwLP7mAfuIGwjoHJGbu5JsIzrb1RGsPadfInpmurKTdN88mp0/dH+8\n",
      "EYNhqQhutgF2id4Fbj8cgX+4LKK1fzF62LQAUUyuVbpJ7rDTDbn3mdsK8MtYznKn\n",
      "DZ3tJ4vPPkMAeuoDo9lHzuFdWA+lYzpHZM7d0/XUoZqrIs29mfu6algb1phYtj6c\n",
      "iQIDAQAB\n",
      "-----END PUBLIC KEY----- \n",
      "\n",
      "Generated hash : \n",
      " 8971128582297218747476502790184044331902692287615602258001491316291456083401\n"
     ]
    }
   ],
   "source": [
    "import hashlib\n",
    "from hashlib import sha256\n",
    "\n",
    "# Hash key \n",
    "pk_client=key.public_key().export_key()\n",
    "my_sha = hashlib.sha256(pk_client)\n",
    "hash_client = int.from_bytes(my_sha.digest(),byteorder='big')\n",
    "print(\"Sent to client: {public key, hash(public key)}. \",'\\n'+'↓↓↓↓↓↓↓↓↓↓↓↓','\\n')\n",
    "print(\"Public key :\",'\\n',pk_client.decode(),'\\n')\n",
    "print(\"Generated hash :\",'\\n',hash_client)\n",
    "# signature = pow(hash, key.d, key.n)\n",
    "# print(\"Signature:\", hex(signature))"
   ]
  },
  {
   "cell_type": "code",
   "execution_count": 143,
   "metadata": {},
   "outputs": [],
   "source": [
    "# hash2 = int.from_bytes(my_sha.digest(),byteorder='big')\n",
    "# hashFromSignature = pow(signature, key.e, key.n)\n",
    "# print(\"Signature valid:\", hash2 == hashFromSignature)"
   ]
  },
  {
   "attachments": {},
   "cell_type": "markdown",
   "metadata": {},
   "source": [
    "Client re-hashes the public key and and compares with the hash that is sent. If they match the client proceeds to Step 5. Otherwise, the process ends here with an error message."
   ]
  },
  {
   "cell_type": "code",
   "execution_count": 145,
   "metadata": {},
   "outputs": [
    {
     "name": "stdout",
     "output_type": "stream",
     "text": [
      "hash match\n"
     ]
    }
   ],
   "source": [
    "# Hash key \n",
    "my_sha = hashlib.sha256(pk_client)\n",
    "hash_server = int.from_bytes(my_sha.digest(),byteorder='big')\n",
    "# print(\"Sent to client: {public key, hash(public key)}. \",'\\n'+'↓↓↓↓↓↓↓↓↓↓↓↓','\\n')\n",
    "# print(\"Public key :\",'\\n',pk_client.decode(),'\\n')\n",
    "# print(\"Generated hash :\",'\\n',hash_server)\n",
    "if (hash_client==hash_server):\n",
    "    print(\"hash match\")\n",
    "else:\n",
    "    print(\"hash missmatch\")"
   ]
  }
 ],
 "metadata": {
  "kernelspec": {
   "display_name": "Python 3",
   "language": "python",
   "name": "python3"
  },
  "language_info": {
   "codemirror_mode": {
    "name": "ipython",
    "version": 3
   },
   "file_extension": ".py",
   "mimetype": "text/x-python",
   "name": "python",
   "nbconvert_exporter": "python",
   "pygments_lexer": "ipython3",
   "version": "3.10.7"
  },
  "orig_nbformat": 4,
  "vscode": {
   "interpreter": {
    "hash": "369f2c481f4da34e4445cda3fffd2e751bd1c4d706f27375911949ba6bb62e1c"
   }
  }
 },
 "nbformat": 4,
 "nbformat_minor": 2
}
