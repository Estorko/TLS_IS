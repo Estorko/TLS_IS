{
 "cells": [
  {
   "attachments": {},
   "cell_type": "markdown",
   "metadata": {},
   "source": [
    "# Simulation of TLS handshake"
   ]
  },
  {
   "cell_type": "code",
   "execution_count": 583,
   "metadata": {},
   "outputs": [],
   "source": [
    "\"\"\" # Please remove the triple quotes in this line if the pip installation of the libraries is needed\n",
    "import warnings\n",
    "warnings.filterwarnings('ignore')\n",
    "warnings.simplefilter('ignore')\n",
    "%pip install pycryptodome\n",
    "%pip install cryptography\n",
    "%pip install requests --disable-pip-version-check \"\"\";"
   ]
  },
  {
   "attachments": {},
   "cell_type": "markdown",
   "metadata": {},
   "source": [
    "**Client side**\n",
    "\n",
    "The client generates a nonce of size 32 bytes. The client sends the nonce to the server along with a flag that is set to 1 if RSA will be used for key exchange, and set to zero if Diffie-Hellman will be used"
   ]
  },
  {
   "cell_type": "code",
   "execution_count": 584,
   "metadata": {},
   "outputs": [],
   "source": [
    "import random\n",
    "from Crypto.Random import get_random_bytes\n",
    "\n",
    "def getClientNonce():\n",
    "    # generate random nonce, size 32 bytes → 256-bit\n",
    "    global nonce_client \n",
    "    nonce_client= get_random_bytes(32)    #RB\n",
    "    # specify exchange method → 0=Diffie-Hellman / 1=RSA\n",
    "    exchange_method_client=random.randint(0,1)\n",
    "    print(\"Nonce-client: \",'\\n'+'------------------',nonce_client,'\\n')\n",
    "    print(\"Exchange method-client:\",exchange_method_client,'\\n')"
   ]
  },
  {
   "attachments": {},
   "cell_type": "markdown",
   "metadata": {},
   "source": [
    "**Server side**\n",
    "\n",
    "The server responds with another nonce of size 32 bytes and a flag indicating the choice of key exchange algorithm."
   ]
  },
  {
   "cell_type": "code",
   "execution_count": 585,
   "metadata": {},
   "outputs": [],
   "source": [
    "def getServerNonce():\n",
    "    # generate random nonce, size 32 bytes → 256-bit\n",
    "    global nonce_server \n",
    "    nonce_server= get_random_bytes(32)     #RS\n",
    "    # specify exchange method → 0=Diffie-Hellman / 1=RSA\n",
    "    global exchange_method_server\n",
    "    exchange_method_server=random.randint(0,1)\n",
    "    print(\"Nonce-server: \",'\\n'+'------------------',nonce_server,'\\n')\n",
    "    if exchange_method_server==1:\n",
    "        print(\"Exchange method-server that was chosen: RSA\",'\\n')\n",
    "    else:\n",
    "        print(\"Exchange method-server that was chosen: Diffie-Hellman\",'\\n')\n"
   ]
  },
  {
   "attachments": {},
   "cell_type": "markdown",
   "metadata": {},
   "source": [
    "**Generate RSA KEY pair**\n",
    "\n",
    "The server randomly generates a pair of RSA public/private keys and sends to the client {public key, hash(public key)}. This constitutes the certificate."
   ]
  },
  {
   "cell_type": "code",
   "execution_count": 586,
   "metadata": {},
   "outputs": [],
   "source": [
    "from Crypto.PublicKey import RSA\n",
    "def generateRSA_key():\n",
    "    # generate RSA key pair\n",
    "    global key \n",
    "    key= RSA.generate(2048)\n",
    "    global publickey\n",
    "    publickey = key.publickey()     # for later use (public key)\n",
    "    pu_key=key.publickey().exportKey()\n",
    "    # private key\n",
    "    priv_key=key.exportKey()\n",
    "    print(pu_key.decode(),'\\n')\n",
    "    # print(priv_key.decode())  #private key"
   ]
  },
  {
   "attachments": {},
   "cell_type": "markdown",
   "metadata": {},
   "source": [
    "**Key hashing-server**"
   ]
  },
  {
   "cell_type": "code",
   "execution_count": 587,
   "metadata": {},
   "outputs": [],
   "source": [
    "import hashlib\n",
    "from hashlib import sha256\n",
    "\n",
    "def hashKey_server(key):\n",
    "    # Hash key \n",
    "    global pk_client\n",
    "    pk_client=key.public_key().export_key()\n",
    "    my_sha = hashlib.sha256(pk_client)\n",
    "    global hash_client \n",
    "    hash_client= int.from_bytes(my_sha.digest(),byteorder='big')\n",
    "    print(\"Sent to client: {public key, hash(public key)} \",'\\n'+'↓↓↓↓↓↓↓↓↓↓↓↓','\\n')\n",
    "    print(\"Public key :\",'\\n',pk_client.decode(),'\\n')\n",
    "    print(\"Generated hash :\",'\\n',hash_client,'\\n')"
   ]
  },
  {
   "attachments": {},
   "cell_type": "markdown",
   "metadata": {},
   "source": [
    "**Key re-hashing-client**"
   ]
  },
  {
   "attachments": {},
   "cell_type": "markdown",
   "metadata": {},
   "source": [
    "Client re-hashes the public key and and compares with the hash that is sent. If they match the client proceeds to Step 5. Otherwise, the process ends here with an error message."
   ]
  },
  {
   "cell_type": "code",
   "execution_count": 588,
   "metadata": {},
   "outputs": [],
   "source": [
    "def keyReHash_client_check(pk_client,hash_client):\n",
    "    # re-Hash key\n",
    "    global out\n",
    "    out=False\n",
    "    my_sha = hashlib.sha256(pk_client)\n",
    "    hash_server = int.from_bytes(my_sha.digest(),byteorder='big')\n",
    "    if (hash_client==hash_server):\n",
    "        out=True\n",
    "        print(\"Hashes match, process continues → \",'\\n')\n",
    "    else:\n",
    "        print(\"Hashes missmatch !\")"
   ]
  },
  {
   "attachments": {},
   "cell_type": "markdown",
   "metadata": {},
   "source": [
    "# RSA-TLS"
   ]
  },
  {
   "attachments": {},
   "cell_type": "markdown",
   "metadata": {},
   "source": [
    "In case RSA was chosen, then the client will generate a pre-master secret and encrypt it with the public key of the server that was already sent over by the server.\n",
    "\n",
    "In RSA key exchange the public key is used in the client to encrypt the pre-master secret and the private key is used in the server to decrypt it."
   ]
  },
  {
   "cell_type": "code",
   "execution_count": 589,
   "metadata": {},
   "outputs": [],
   "source": [
    "from Crypto.Cipher import PKCS1_OAEP\n",
    "def PS_encrypt_RS(publickey):\n",
    "    # encrypt the Pre-master secret with the public key of the server\n",
    "    encryptor = PKCS1_OAEP.new(publickey)\n",
    "    # generate pre-master secret\n",
    "    global pre_masterSecret_client \n",
    "    pre_masterSecret_client= get_random_bytes(32)     #PS generated from the client \n",
    "    global pre_masterSecret_server \n",
    "    pre_masterSecret_server= get_random_bytes(32)     #PS generated from the server \n",
    "    encrypted = encryptor.encrypt(pre_masterSecret_client) # encrypt the PS\n",
    "    print(\"Pre-master secret - Client: \",pre_masterSecret_client,'\\n')\n",
    "    print(\"Pre-master secret - Server: \",pre_masterSecret_server,'\\n')\n",
    "    print(\"Encrypted Pre-master secret with server public key: \",encrypted,'\\n')"
   ]
  },
  {
   "attachments": {},
   "cell_type": "markdown",
   "metadata": {},
   "source": [
    "The server will decrypt it using his private key and validate the results"
   ]
  },
  {
   "cell_type": "code",
   "execution_count": 590,
   "metadata": {},
   "outputs": [],
   "source": [
    "import hmac\n",
    "import os\n",
    "def gen_communicationKeys(pre_masterSecret_client,pre_masterSecret_server,nonce_client,nonce_server):\n",
    "    # master secret generated at the client side (CC -Cipher client)\n",
    "    def prf(secret,seed,numblocks):\n",
    "        seed=seed\n",
    "        output = b''\n",
    "        a=hmac.new(secret,msg=seed,digestmod=hashlib.sha256).digest()\n",
    "        for j in range(numblocks):\n",
    "            output += hmac.new(secret,msg=a+seed,digestmod=hashlib.sha256).digest()\n",
    "            a=hmac.new(secret,msg=a,digestmod=hashlib.sha256).digest()\n",
    "        return output\n",
    "\n",
    "    def master_secret(pms,client_random,server_random):\n",
    "        out=prf(pms,client_random+server_random,2)\n",
    "        return out[:48]\n",
    "\n",
    "    global cipher_client\n",
    "    cipher_client=prf(pre_masterSecret_client,nonce_client+nonce_server,1)\n",
    "    global cipher_server\n",
    "    cipher_server=prf(pre_masterSecret_server,nonce_client+nonce_server,1)\n",
    "    global IC \n",
    "    IC= os.urandom(32) \n",
    "    global IS \n",
    "    IS= os.urandom(32) \n",
    "    print(\"Cipher Client - CC: \",'\\n',cipher_client,'\\n')\n",
    "    print(\"Cipher Server - CS: \",'\\n',cipher_server,'\\n')\n",
    "    print(\"Integral Key Client - IC: \",'\\n',IC,'\\n')\n",
    "    print(\"Integral Key Server - IS: \",'\\n',IS,'\\n')"
   ]
  },
  {
   "attachments": {},
   "cell_type": "markdown",
   "metadata": {},
   "source": [
    "# Diffie-Hellman TLS"
   ]
  },
  {
   "cell_type": "code",
   "execution_count": 591,
   "metadata": {},
   "outputs": [],
   "source": [
    "import random\n",
    "def gen_PS_DH():\n",
    "    p = random.randint(1, 100)\n",
    "    g = random.randint(1, 100)\n",
    "    a = random.randint(1, 100)\n",
    "    b = random.randint(1, 100)\n",
    "    A = ((pow(g, a)) % p)           \n",
    "    B = ((pow(g, b)) % p)\n",
    "    global pre_master_client \n",
    "    pre_master_client= ((pow(B, a)) % p)\n",
    "    global pre_master_server \n",
    "    pre_master_server= ((pow(A, b)) % p)\n",
    "    print(\"Pre-master secret - Client: \", str(pre_master_client),'\\n')\n",
    "    print(\"Pre-master secret - Server: \",str(pre_master_server),'\\n')"
   ]
  },
  {
   "cell_type": "code",
   "execution_count": 592,
   "metadata": {},
   "outputs": [],
   "source": [
    "def gen_communicationKeys_DH():\n",
    "    MC_str=str(pre_master_client).encode()\n",
    "    MS_str=str(pre_master_server).encode()\n",
    "    gen_communicationKeys(MC_str,MS_str,nonce_client,nonce_server)"
   ]
  },
  {
   "attachments": {},
   "cell_type": "markdown",
   "metadata": {},
   "source": [
    "The client the sends the server hash(nonce_client, nonce_server, premaster secret, CC, IC). The server sends to the client hash(nonce_client, nonce_server, premaster secret, CS, IS). Each side will verify the values they received and print either a success or failure message\n"
   ]
  },
  {
   "cell_type": "code",
   "execution_count": 593,
   "metadata": {},
   "outputs": [],
   "source": [
    "def verify_values_hash():\n",
    "    sha_client = hashlib.sha256()\n",
    "    sha_server = hashlib.sha256()\n",
    "    # client → server\n",
    "    if exchange_method_server==1: #RSA\n",
    "        sha_client.update(pre_masterSecret_client)\n",
    "        sha_server.update(pre_masterSecret_server)\n",
    "    else: #DH\n",
    "        sha_client.update(pre_master_client) \n",
    "        sha_server.update(pre_master_server)\n",
    "    \n",
    "    sha_client.update(nonce_client)\n",
    "    sha_client.update(nonce_server)\n",
    "    sha_client.update(cipher_client)\n",
    "    sha_client.update(IC)\n",
    "    # server → client\n",
    "    sha_server.update(nonce_client)\n",
    "    sha_server.update(nonce_server)\n",
    "    sha_server.update(cipher_server)\n",
    "    sha_server.update(IS)\n"
   ]
  },
  {
   "cell_type": "code",
   "execution_count": 594,
   "metadata": {},
   "outputs": [
    {
     "name": "stdout",
     "output_type": "stream",
     "text": [
      "Nonce-client:  \n",
      "------------------ b'\\xd4o\\x8f\\xb3x`\\xca\\x12?9d\\x94\\x94\\xcd\\xac\\xc6~\\x01A\\xc2\"i\\xeap7-\\xfa\\xf4\\xcf\\xba|\\r' \n",
      "\n",
      "Exchange method-client: 1 \n",
      "\n",
      "Nonce-server:  \n",
      "------------------ b\"V\\xfe\\xe5L\\x07\\xaf\\x19\\xc4+\\x17e\\x04\\x8f\\xc3\\x16\\xf1\\xf14\\xc8i\\xd2\\xe1\\xddw\\x9fn\\xb3\\xf58'\\x1a\\xba\" \n",
      "\n",
      "Exchange method-server that was chosen: RSA \n",
      "\n",
      "-----BEGIN PUBLIC KEY-----\n",
      "MIIBIjANBgkqhkiG9w0BAQEFAAOCAQ8AMIIBCgKCAQEA9AuytSu2LBFBIz2ZLjQe\n",
      "F2PDQZ9zo4ToT6GDQQAa5d3AoOa062t3u/VIwnI4MyJPUUgjdd3KP9mQZ1d4tuv0\n",
      "6KsevwBtO/VZkX86kCh/wULuNvfCC3HIxoEMZPVlGBKfcQcyUmhWPQmoSGQsY12z\n",
      "PZ6kWqBMNAeyS0UeVGRft4GuHXEaneSDS7gwUdgdm8pqzgSKoapn30kpi3kFwACy\n",
      "ynfZYB0rHIqp7NzDpbXKVL82qGnk4sHmfLgCbv4pmzLx6V4DNXKnXViXoq4k+MIr\n",
      "z1TlbOn/Q4dUNt91y0gtAHo1p5jNkdZSrdm0nRGnMtPVkJ8DxwrMRHmgqbUnggQS\n",
      "UQIDAQAB\n",
      "-----END PUBLIC KEY----- \n",
      "\n",
      "Sent to client: {public key, hash(public key)}  \n",
      "↓↓↓↓↓↓↓↓↓↓↓↓ \n",
      "\n",
      "Public key : \n",
      " -----BEGIN PUBLIC KEY-----\n",
      "MIIBIjANBgkqhkiG9w0BAQEFAAOCAQ8AMIIBCgKCAQEA9AuytSu2LBFBIz2ZLjQe\n",
      "F2PDQZ9zo4ToT6GDQQAa5d3AoOa062t3u/VIwnI4MyJPUUgjdd3KP9mQZ1d4tuv0\n",
      "6KsevwBtO/VZkX86kCh/wULuNvfCC3HIxoEMZPVlGBKfcQcyUmhWPQmoSGQsY12z\n",
      "PZ6kWqBMNAeyS0UeVGRft4GuHXEaneSDS7gwUdgdm8pqzgSKoapn30kpi3kFwACy\n",
      "ynfZYB0rHIqp7NzDpbXKVL82qGnk4sHmfLgCbv4pmzLx6V4DNXKnXViXoq4k+MIr\n",
      "z1TlbOn/Q4dUNt91y0gtAHo1p5jNkdZSrdm0nRGnMtPVkJ8DxwrMRHmgqbUnggQS\n",
      "UQIDAQAB\n",
      "-----END PUBLIC KEY----- \n",
      "\n",
      "Generated hash : \n",
      " 76747387972169351948952657414336504704379883722062874021127326236323643601991 \n",
      "\n",
      "Hashes match, process continues →  \n",
      "\n",
      "Pre-master secret - Client:  b'b\\xf2\\xe3\\xbcJ2\\xc2\\xd4>\\x14|\\xce}\\x88\\xf9\\x8c\\x1fV._:5\\xa2\\x86Lz\\xc0\\xb6T\\xb6?\\x8e' \n",
      "\n",
      "Pre-master secret - Server:  b'\\x0b\\x90\\xcd\\x82]\\xf2\\xdd\\xb2Q\\xebUa.\\xb98Y\\xf9\\xd7e\\x13\\xbc\\x1cJ\\xd9\\xb0|\\xb2\\xdd\\xfe\\xb7[.' \n",
      "\n",
      "Encrypted Pre-master secret with server public key:  b'\\xcc\\x84\\xbd\\x04\\xab\\xc1[cD\\xf0\\x885\\xf1\\xfd\\xfb\\xfc\\xe8\"R\\xa2)\\xcc\\xe1\\x83)\\x1b\\x0e.\\xc7\\t\\x96\\xdc:\\xa910\\xb8\\xeadD\\xc5\\xce\\xfe\\xf9u\\x86)}e#\\x02\\xb9\\x98\\xeb\\xee\\x8cd\\xaa\\x16g\\xb8n\\xdc]n\\x03\\xcb\\xb27\\xbb\\xa3\\xe4\\x1f{\\x93\\xe3\\xcd_]\\xb85c@\\x04B\\xd8\\xb09\\xde\\xe2\\xb2\\x1e\\x17T\\xc1`\\xd0\\x83\\x15}\\x82B\\xd3\\xc0\\x9bL\\xfc\\xb8\\xa2\\xb2\\x8d\\x07T\\x05c\\x87\\xa5\\x88\\x03_\\\\m%\\x14\\xf1\"\\x1a\\xb65\\xc0\\xcb,\\xba\\xe8GM\\xa5\\xb2{\\xb6:<\\xe0r\\xd3\\x98~\\x0e\\t\\xbb\\x82H)\\x10cc\\x00\\xa6\\x7f\\xb1\\xbd\\xddIA\\xd96\\xc8\\xda@Y*BZWDY\\x1a\\x115\\xaf7@\\xe1b\\x1ba\\xb4\\x97\\xb6<U\\xe4\\\\\\x91\\x1dQ\\x94\\xf9\\xd8J\\x18\\x18\\x1eR\\xb2j\\xddk\\xe0\\xe9p\\x0b\\x19}\\xfb\\x98z\\xc0Xi\\x93B\\x10\\x02\\xef\\xa4HV t\\x8bb\\xb3n\\x1a\\xe2\\x0e\\x9bV\\xacl\\xec:\\x05F\\xf8u\\x96\\xd9\\xc1\\xa3\\x97DM\\xd3U' \n",
      "\n",
      "Cipher Client - CC:  \n",
      " b'\\x02\\x83\\xa2\\x85\\xe5\\xb0\\xe1.\\x9d\\x1ex\\xbewbX\\xe9\\xc6\\x81\\xcb\\xb4`\\xd7\\xf8@$\\xa8\\x8d7\\xc8+\\xf1\\xc7' \n",
      "\n",
      "Cipher Server - CS:  \n",
      " b\"\\x01\\x190E\\xf2\\xda(\\x9f\\xc7\\x92%\\xe7\\xcbB\\xc6\\x98\\xd1\\x18\\x90\\xcd1.\\x12\\x83\\xb9G,d\\xfd5'\\x8d\" \n",
      "\n",
      "Integral Key Client - IC:  \n",
      " b'\\x00\\x8fn.\\xd3\\xa2y\\xf1{\\xb5\\xdauw\\xa6\\x10HK\\xf7\\xc9&TS\\x9d\\t\\x7f\\xb0\\x12\\xdbS\\xb1\\x1bx' \n",
      "\n",
      "Integral Key Server - IS:  \n",
      " b'\\xc5P\\x86?\\xab\\xc3Tty\\xa5\\xbf\\xf7\\xe4\\xb7\\x05\\xcb\\xfa\\x0c\\x93QT\\x1f\\x9b\\xb7f\\x05\\xcd\\xe1\\xe8Z\\x96\\x8f' \n",
      "\n"
     ]
    }
   ],
   "source": [
    "def TLS_handshake():\n",
    "    getClientNonce()\n",
    "    getServerNonce()\n",
    "    generateRSA_key()\n",
    "    hashKey_server(key)\n",
    "    keyReHash_client_check(pk_client,hash_client)\n",
    "    if out==True:\n",
    "        if exchange_method_server==1:\n",
    "            PS_encrypt_RS(publickey)\n",
    "            gen_communicationKeys(pre_masterSecret_client,pre_masterSecret_server,nonce_client,nonce_server)\n",
    "        else:\n",
    "            gen_PS_DH()\n",
    "            gen_communicationKeys_DH()\n",
    "\n",
    "    else:\n",
    "        print('The hashes missmatch, process stopped !')\n",
    "\n",
    "TLS_handshake()\n"
   ]
  },
  {
   "cell_type": "code",
   "execution_count": null,
   "metadata": {},
   "outputs": [],
   "source": []
  }
 ],
 "metadata": {
  "kernelspec": {
   "display_name": "Python 3",
   "language": "python",
   "name": "python3"
  },
  "language_info": {
   "codemirror_mode": {
    "name": "ipython",
    "version": 3
   },
   "file_extension": ".py",
   "mimetype": "text/x-python",
   "name": "python",
   "nbconvert_exporter": "python",
   "pygments_lexer": "ipython3",
   "version": "3.10.7"
  },
  "orig_nbformat": 4,
  "vscode": {
   "interpreter": {
    "hash": "369f2c481f4da34e4445cda3fffd2e751bd1c4d706f27375911949ba6bb62e1c"
   }
  }
 },
 "nbformat": 4,
 "nbformat_minor": 2
}
