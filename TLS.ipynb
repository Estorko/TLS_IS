{
 "cells": [
  {
   "attachments": {},
   "cell_type": "markdown",
   "metadata": {},
   "source": [
    "# Simulation of TLS handshake"
   ]
  },
  {
   "cell_type": "code",
   "execution_count": 61,
   "metadata": {},
   "outputs": [],
   "source": [
    "\"\"\" # Please remove the triple quotes in this line if the pip installation of the libraries is needed\n",
    "import warnings\n",
    "warnings.filterwarnings('ignore')\n",
    "warnings.simplefilter('ignore')\n",
    "%pip install pycryptodome\n",
    "%pip install cryptography\n",
    "%pip install requests --disable-pip-version-check \"\"\";"
   ]
  },
  {
   "attachments": {},
   "cell_type": "markdown",
   "metadata": {},
   "source": [
    "**Client side**\n",
    "\n",
    "The client generates a nonce of size 32 bytes. The client sends the nonce to the server along with a flag that is set to 1 if RSA will be used for key exchange, and set to zero if Diffie-Hellman will be used"
   ]
  },
  {
   "cell_type": "code",
   "execution_count": 62,
   "metadata": {},
   "outputs": [
    {
     "name": "stdout",
     "output_type": "stream",
     "text": [
      "Nonce-client:  b'\\xa8oS\\xb4\\xe4\\xd3\\xe1R\\x1aS\\x0b\\xb7\\xf7\\xc6)\\x8eQ\\xe8\\xa6\\xcb\\xbbt\\xe2\\x13\"\\xc2\\xea\\xbd\\x8f\\xe1R\\xfc'\n",
      "Exchange method-client: 1\n"
     ]
    }
   ],
   "source": [
    "import random\n",
    "from Crypto.Random import get_random_bytes\n",
    "\n",
    "# generate random nonce, size 32 bytes → 256-bit\n",
    "nonce_client = get_random_bytes(32)    #RB\n",
    "# specify exchange method → 0=Diffie-Hellman / 1=RSA\n",
    "exchange_method_client=random.randint(0,1)\n",
    "print(\"Nonce-client: \",nonce_client)\n",
    "print(\"Exchange method-client:\",exchange_method_client)"
   ]
  },
  {
   "attachments": {},
   "cell_type": "markdown",
   "metadata": {},
   "source": [
    "**Server side**\n",
    "\n",
    "The server responds with another nonce of size 32 bytes and a flag indicating the choice of key exchange algorithm."
   ]
  },
  {
   "cell_type": "code",
   "execution_count": 63,
   "metadata": {},
   "outputs": [
    {
     "name": "stdout",
     "output_type": "stream",
     "text": [
      "Nonce-server:  b\"\\xb1\\x0c1\\xdb\\xbe\\x9e`\\x8cn\\xa0 \\x02\\xee\\xdc'g\\x19\\x8d\\xa5\\x87\\xdf\\xe7\\xefs_\\x07o\\xb29\\x85\\x14I\"\n",
      "Exchange method-server: 0\n"
     ]
    }
   ],
   "source": [
    "# generate random nonce, size 32 bytes → 256-bit\n",
    "nonce_server = get_random_bytes(32)     #RS\n",
    "# specify exchange method → 0=Diffie-Hellman / 1=RSA\n",
    "exchange_method_server=random.randint(0,1)\n",
    "print(\"Nonce-server: \",nonce_server)\n",
    "print(\"Exchange method-server:\",exchange_method_server)"
   ]
  },
  {
   "attachments": {},
   "cell_type": "markdown",
   "metadata": {},
   "source": [
    "**Generate RSA KEY pair**\n",
    "\n",
    "The server randomly generates a pair of RSA public/private keys and sends to the client {public key, hash(public key)}. This constitutes the certificate."
   ]
  },
  {
   "cell_type": "code",
   "execution_count": 64,
   "metadata": {},
   "outputs": [
    {
     "name": "stdout",
     "output_type": "stream",
     "text": [
      "-----BEGIN PUBLIC KEY-----\n",
      "MIIBIjANBgkqhkiG9w0BAQEFAAOCAQ8AMIIBCgKCAQEA/JCtP5Rtz9ziKhPUipNE\n",
      "pXbUuvLFENFn5LptuZSZ1xR5kTYOBbdF/5d51n0z1tjbQ5D6pE5xLdXdxAxxVODy\n",
      "z0wCaJzZ8A0GdHF/j7y7hYNA3M9at/z8/ATPbOkGuW+vJk5JGKaxsH9YdhqCdCCd\n",
      "c30keKfvb9tulE//596jUfBN2t6FVgXIypZKvN6YbS+PmWQ0gZ9MUu4NrGR0x/Ei\n",
      "9BLhbiGVfkdwBw6kKHSHq1FcRCAbrI/oL0+a4hHRpzfQRn3/2scn16DVbZrhmLHF\n",
      "77id3bR88ngcHyNneCJw+XuN5HOKxgEWvIh3wHaVUCu6Tkt3kjmSUxN7zcTs+j6i\n",
      "uwIDAQAB\n",
      "-----END PUBLIC KEY-----\n"
     ]
    }
   ],
   "source": [
    "from Crypto.PublicKey import RSA\n",
    "# generate RSA key pair\n",
    "key = RSA.generate(2048)\n",
    "publickey = key.publickey() # for later use\n",
    "pu_key=key.publickey().exportKey()\n",
    "priv_key=key.exportKey()\n",
    "print(pu_key.decode())\n",
    "# print(priv_key.decode())  #private key\n",
    "# print(key.public_key().export_key().decode())\n",
    "# print(f\"Public key:  (n={hex(key.n)}, e={hex(key.e)})\")\n",
    "# print(f\"Private key: (n={hex(key.n)}, d={hex(key.d)})\")"
   ]
  },
  {
   "attachments": {},
   "cell_type": "markdown",
   "metadata": {},
   "source": [
    "**Key hashing-server**"
   ]
  },
  {
   "cell_type": "code",
   "execution_count": 65,
   "metadata": {},
   "outputs": [
    {
     "name": "stdout",
     "output_type": "stream",
     "text": [
      "Sent to client: {public key, hash(public key)}  \n",
      "↓↓↓↓↓↓↓↓↓↓↓↓ \n",
      "\n",
      "Public key : \n",
      " -----BEGIN PUBLIC KEY-----\n",
      "MIIBIjANBgkqhkiG9w0BAQEFAAOCAQ8AMIIBCgKCAQEA/JCtP5Rtz9ziKhPUipNE\n",
      "pXbUuvLFENFn5LptuZSZ1xR5kTYOBbdF/5d51n0z1tjbQ5D6pE5xLdXdxAxxVODy\n",
      "z0wCaJzZ8A0GdHF/j7y7hYNA3M9at/z8/ATPbOkGuW+vJk5JGKaxsH9YdhqCdCCd\n",
      "c30keKfvb9tulE//596jUfBN2t6FVgXIypZKvN6YbS+PmWQ0gZ9MUu4NrGR0x/Ei\n",
      "9BLhbiGVfkdwBw6kKHSHq1FcRCAbrI/oL0+a4hHRpzfQRn3/2scn16DVbZrhmLHF\n",
      "77id3bR88ngcHyNneCJw+XuN5HOKxgEWvIh3wHaVUCu6Tkt3kjmSUxN7zcTs+j6i\n",
      "uwIDAQAB\n",
      "-----END PUBLIC KEY----- \n",
      "\n",
      "Generated hash : \n",
      " 25721024698927385901025868719334761964613471435580153800216506663182367606818\n"
     ]
    }
   ],
   "source": [
    "import hashlib\n",
    "from hashlib import sha256\n",
    "\n",
    "# Hash key \n",
    "pk_client=key.public_key().export_key()\n",
    "my_sha = hashlib.sha256(pk_client)\n",
    "hash_client = int.from_bytes(my_sha.digest(),byteorder='big')\n",
    "print(\"Sent to client: {public key, hash(public key)} \",'\\n'+'↓↓↓↓↓↓↓↓↓↓↓↓','\\n')\n",
    "print(\"Public key :\",'\\n',pk_client.decode(),'\\n')\n",
    "print(\"Generated hash :\",'\\n',hash_client)\n",
    "# signature = pow(hash, key.d, key.n)\n",
    "# print(\"Signature:\", hex(signature))"
   ]
  },
  {
   "cell_type": "code",
   "execution_count": 66,
   "metadata": {},
   "outputs": [],
   "source": [
    "# hash2 = int.from_bytes(my_sha.digest(),byteorder='big')\n",
    "# hashFromSignature = pow(signature, key.e, key.n)\n",
    "# print(\"Signature valid:\", hash2 == hashFromSignature)"
   ]
  },
  {
   "attachments": {},
   "cell_type": "markdown",
   "metadata": {},
   "source": [
    "**Key re-hashing-client**"
   ]
  },
  {
   "attachments": {},
   "cell_type": "markdown",
   "metadata": {},
   "source": [
    "Client re-hashes the public key and and compares with the hash that is sent. If they match the client proceeds to Step 5. Otherwise, the process ends here with an error message."
   ]
  },
  {
   "cell_type": "code",
   "execution_count": 67,
   "metadata": {},
   "outputs": [
    {
     "name": "stdout",
     "output_type": "stream",
     "text": [
      "hash match\n"
     ]
    }
   ],
   "source": [
    "# re-Hash key \n",
    "my_sha = hashlib.sha256(pk_client)\n",
    "hash_server = int.from_bytes(my_sha.digest(),byteorder='big')\n",
    "if (hash_client==hash_server):\n",
    "    print(\"hash match\")\n",
    "else:\n",
    "    print(\"hash missmatch\")"
   ]
  },
  {
   "attachments": {},
   "cell_type": "markdown",
   "metadata": {},
   "source": [
    "# RSA-TLS"
   ]
  },
  {
   "attachments": {},
   "cell_type": "markdown",
   "metadata": {},
   "source": [
    "In case RSA was chosen, then the client will generate a pre-master secret and encrypt it with the public key of the server that was already sent over by the server.\n",
    "\n",
    "In RSA key exchange the public key is used in the client to encrypt the pre-master secret and the private key is used in the server to decrypt it."
   ]
  },
  {
   "cell_type": "code",
   "execution_count": 68,
   "metadata": {},
   "outputs": [
    {
     "name": "stdout",
     "output_type": "stream",
     "text": [
      "b'\\xc7\\xb9\\xa6\\x9b\\xc6_ \\xd8\\xcb\\x81\\x9e\\x88\\x8fL\\x14\\xeb\\xe7>\\xfe-\\xbf\\x90\\x01]\\xb2\\xec\\xcf7\\x83\\xa9\\x97\\xf19|x\\x96BW\\xbb\\xcaG-\\x10\\x9e\\xbb\\x82\\x80\\x84f\\xfe\\x19\\xcb/\\x9f\\xb4\\xaa\\x87\\xa1\\x87p\\x89\\x9d\\n\\xc7Kx6\\xa9\\xa91,\\x9d~\\xdf&\\xd7\\xd0\\xe2\\xc6\\xee4\"x\\x9d\\x06\\x1f#]\\xf7\\xf0\\x06\\xb4\\xf2t\\xe0[\\xcf\\xa6\\xfb\\\\\\xf1^\\x0fwi-\\xd6\\x89,\\xf25\\xa4\\x1a\\xd1\\xbc\\x99\\x8a\\x9d\\xcb\\x03\\x17\\xbf\\x16@\\x0e\\xc7\\xdd\\xbbG{\\xae\\xd91\\x12\\xeb$\\x98+2\\xbe\\xa2~\\xecE\\x12\\xb5n\\x1e\\xe5\\xcaJ\\xb3\\xc8{\\xae\\xaf\\xc17\\x83y[\\x0c\\x9b{\\xd8\\r\\x98\\xaa:\\xa8K<\\x81w\\xcf\\xbb\\xf81\\xd0\\xcb\\xc5=\\x9eN\\x1f\\x98G\\xd84\\xef\\xc6\\xcb\\x0b\\'\\xa6\\xc5\\xfd\\xff\\x88\\xe3\\xcaO\\xca\\xee\\xb7\\xe5e\\x80\\xf8Z\\xb5\\xbf\\x92\\xd4\\xa1\\xed\\x19 V\\'\\xb0N\\xd7JH\\x10\\x9a\\xa6\\xcd\\x9d\"\\x17\\xf7\\xdd\\xac\\x15<I;\\xfd\\xd9\\xec\\xa0\\xe6\\x13\\xc5Eo\\x8eC\\xdd?\\xf9(\\xb1c'\n"
     ]
    }
   ],
   "source": [
    "from Crypto.Cipher import PKCS1_OAEP\n",
    "# encrypt the Pre-master secret with the public key of the server\n",
    "encryptor = PKCS1_OAEP.new(publickey)\n",
    "pre_masterSecret_client = get_random_bytes(32)     #PS generated from the client \n",
    "pre_masterSecret_server = get_random_bytes(32)     #PS generated from the server \n",
    "encrypted = encryptor.encrypt(pre_masterSecret_client)\n",
    "print(encrypted)"
   ]
  },
  {
   "attachments": {},
   "cell_type": "markdown",
   "metadata": {},
   "source": [
    "The server will decrypt it using his private key and validate the results"
   ]
  },
  {
   "cell_type": "code",
   "execution_count": 69,
   "metadata": {},
   "outputs": [
    {
     "name": "stdout",
     "output_type": "stream",
     "text": [
      "Cipher Client - CC:  \n",
      "\n",
      " b'\\x82\\xd9\\xbbld\\x19\\xa4P\\xb2\\xaf\\xe7x\\xa5\\xfeWj\\xc5\\xde\\x8b\\xee\\xb2\\x95\\x03\\n.\\xcd\\x01\\x11Nw\\xd9\\x0f\\xd1ht+Y\\x9f=\\xb6\\x0b\\\\\\xe7\\xcf\\xaf\\x86\\xef\\xc2\\x05\\xf7p\\xd7\\xe4\\xb2\\xd9Q\\xf9\\xb9lZ\\xedp{\\x13'\n"
     ]
    }
   ],
   "source": [
    "import hmac\n",
    "# master secret generated at the client side (CC -Cipher client)\n",
    "def prf(secret,seed,numblocks):\n",
    "    seed=seed\n",
    "    output = b''\n",
    "    a=hmac.new(secret,msg=seed,digestmod=hashlib.sha256).digest()\n",
    "    for j in range(numblocks):\n",
    "        output += hmac.new(secret,msg=a+seed,digestmod=hashlib.sha256).digest()\n",
    "        a=hmac.new(secret,msg=a,digestmod=hashlib.sha256).digest()\n",
    "    return output\n",
    "\n",
    "def master_secret(pms,client_random,server_random):\n",
    "    out=prf(pms,client_random+server_random,2)\n",
    "    return out[:48]\n",
    "\n",
    "def keyblock(ms,client_random,server_random):\n",
    "    u=prf(ms,server_random+client_random,4)\n",
    "    return u\n",
    "\n",
    "label=b'master secret_client'\n",
    "cipher_client=prf(pre_masterSecret_client,label+nonce_client+nonce_server,2)\n",
    "print(\"Cipher Client - CC: \",'\\n'*2,cipher_client)"
   ]
  },
  {
   "cell_type": "code",
   "execution_count": 70,
   "metadata": {},
   "outputs": [
    {
     "name": "stdout",
     "output_type": "stream",
     "text": [
      "Cipher Server - CS:  \n",
      "\n",
      " b'\\xbf\\xa6\\x97\\xe3E\\xf8f\\xcb\\xfb\\x94Kz\\xf7\\xa4\\x9c\\\\\\xfc\\xb5\\x193\\x91C\\xde\\xbe\\xc9w\\xc7\\xb2\\xe81h\\xc0HE)\\x89i\\x06f\\xf2L\\xe2J\\x8d)\\x14w\\xd9T\\xd54\\xc7\\xf1\\xc3\\x1e\\x14H\\xf7\\xbd%3D\\xd5\\xa6'\n"
     ]
    }
   ],
   "source": [
    "label=b'master secret_server'\n",
    "cipher_server=prf(pre_masterSecret_server,label+nonce_client+nonce_server,2)\n",
    "print(\"Cipher Server - CS: \",'\\n'*2,cipher_server)"
   ]
  },
  {
   "attachments": {},
   "cell_type": "markdown",
   "metadata": {},
   "source": [
    "# Diffie-Hellman TLS"
   ]
  },
  {
   "cell_type": "code",
   "execution_count": 83,
   "metadata": {},
   "outputs": [
    {
     "name": "stdout",
     "output_type": "stream",
     "text": [
      "PS (Client) =  10\n",
      "PS (Server) 10\n"
     ]
    }
   ],
   "source": [
    "import random\n",
    "\n",
    "p = random.randint(1, 100)\n",
    "g = random.randint(1, 100)\n",
    "a = random.randint(1, 100)\n",
    "b = random.randint(1, 100)\n",
    "A = ((pow(g, a)) % p)           \n",
    "B = ((pow(g, b)) % p)\n",
    "pre_master_client = ((pow(B, a)) % p)\n",
    "pre_master_server = ((pow(A, b)) % p)\n",
    "print(\"PS (Client) = \", str(pre_master_client))\n",
    "print(\"PS (Server)\",str(pre_master_server))"
   ]
  }
 ],
 "metadata": {
  "kernelspec": {
   "display_name": "Python 3.10.2 64-bit",
   "language": "python",
   "name": "python3"
  },
  "language_info": {
   "codemirror_mode": {
    "name": "ipython",
    "version": 3
   },
   "file_extension": ".py",
   "mimetype": "text/x-python",
   "name": "python",
   "nbconvert_exporter": "python",
   "pygments_lexer": "ipython3",
   "version": "3.10.2"
  },
  "orig_nbformat": 4,
  "vscode": {
   "interpreter": {
    "hash": "8c3d4d9970fc5c09c50d9318a9c7fbf4d0159e4b28833276f5678ee22bded273"
   }
  }
 },
 "nbformat": 4,
 "nbformat_minor": 2
}
