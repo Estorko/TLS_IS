{
 "cells": [
  {
   "attachments": {},
   "cell_type": "markdown",
   "metadata": {},
   "source": [
    "# Simulation of TLS handshake"
   ]
  },
  {
   "cell_type": "code",
   "execution_count": 988,
   "metadata": {},
   "outputs": [],
   "source": [
    "\"\"\" # Please remove the triple quotes in this line if the pip installation of the libraries is needed\n",
    "import warnings\n",
    "warnings.filterwarnings('ignore')\n",
    "warnings.simplefilter('ignore')\n",
    "%pip install pycryptodome\n",
    "%pip install cryptography\n",
    "%pip install requests --disable-pip-version-check \"\"\";"
   ]
  },
  {
   "attachments": {},
   "cell_type": "markdown",
   "metadata": {},
   "source": [
    "**Client side**\n",
    "\n",
    "The client generates a nonce of size 32 bytes. The client sends the nonce to the server along with a flag that is set to 1 if RSA will be used for key exchange, and set to zero if Diffie-Hellman will be used"
   ]
  },
  {
   "cell_type": "code",
   "execution_count": 989,
   "metadata": {},
   "outputs": [],
   "source": [
    "import random\n",
    "from Crypto.Random import get_random_bytes\n",
    "\n",
    "def getClientNonce():\n",
    "    # generate random nonce, size 32 bytes → 256-bit\n",
    "    global nonce_client \n",
    "    nonce_client= get_random_bytes(32)    #RB\n",
    "    # specify exchange method → 0=Diffie-Hellman / 1=RSA\n",
    "    exchange_method_client=random.randint(0,1)\n",
    "    print('__________________'*6,'\\n'+\"Nonce-client: \",'\\n',nonce_client,'\\n')\n",
    "    print(\"Exchange method-client:\",exchange_method_client,'__________________'*6)"
   ]
  },
  {
   "attachments": {},
   "cell_type": "markdown",
   "metadata": {},
   "source": [
    "**Server side**\n",
    "\n",
    "The server responds with another nonce of size 32 bytes and a flag indicating the choice of key exchange algorithm."
   ]
  },
  {
   "cell_type": "code",
   "execution_count": 990,
   "metadata": {},
   "outputs": [],
   "source": [
    "def getServerNonce():\n",
    "    # generate random nonce, size 32 bytes → 256-bit\n",
    "    global nonce_server \n",
    "    nonce_server= get_random_bytes(32)     #RS\n",
    "    # specify exchange method → 0=Diffie-Hellman / 1=RSA\n",
    "    global exchange_method_server\n",
    "    exchange_method_server=random.randint(0,1)\n",
    "    print(\"Nonce-server: \",'\\n',nonce_server,'\\n')\n",
    "    if exchange_method_server==1:\n",
    "        print(\"Exchange method-server that was chosen: RSA\",'\\n'+'__________________'*6)\n",
    "    else:\n",
    "        print(\"Exchange method-server that was chosen: Diffie-Hellman\",'\\n'+'__________________'*6)"
   ]
  },
  {
   "attachments": {},
   "cell_type": "markdown",
   "metadata": {},
   "source": [
    "**Generate RSA KEY pair**\n",
    "\n",
    "The server randomly generates a pair of RSA public/private keys and sends to the client {public key, hash(public key)}. This constitutes the certificate."
   ]
  },
  {
   "cell_type": "code",
   "execution_count": 991,
   "metadata": {},
   "outputs": [],
   "source": [
    "from Crypto.PublicKey import RSA\n",
    "def generateRSA_key():\n",
    "    # generate RSA key pair\n",
    "    global key \n",
    "    key= RSA.generate(2048)\n",
    "    global publickey\n",
    "    publickey = key.publickey()     # for later use (public key)\n",
    "    pu_key=key.publickey().exportKey()\n",
    "    # private key\n",
    "    priv_key=key.exportKey()\n",
    "    # print(\"Generated Public Key: \",'\\n',pu_key.decode(),'\\n'+'__________________'*6)\n",
    "    # print(priv_key.decode())  #private key"
   ]
  },
  {
   "attachments": {},
   "cell_type": "markdown",
   "metadata": {},
   "source": [
    "**Key hashing-server**"
   ]
  },
  {
   "cell_type": "code",
   "execution_count": 992,
   "metadata": {},
   "outputs": [],
   "source": [
    "import hashlib\n",
    "from hashlib import sha256\n",
    "\n",
    "def hashKey_server(key):\n",
    "    # Hash key \n",
    "    global pk_client\n",
    "    pk_client=key.public_key().export_key()\n",
    "    my_sha = hashlib.sha256(pk_client)\n",
    "    global hash_client \n",
    "    hash_client= int.from_bytes(my_sha.digest(),byteorder='big')\n",
    "    print(\"Sent to client: {public key, hash(public key)} \",'\\n'+'↓↓↓↓↓↓↓↓↓↓↓↓','\\n')\n",
    "    print(\"Public key :\",'\\n',pk_client.decode(),'\\n')\n",
    "    print(\"Generated hash :\",hash_client,'\\n'+'__________________'*6)"
   ]
  },
  {
   "attachments": {},
   "cell_type": "markdown",
   "metadata": {},
   "source": [
    "**Key re-hashing-client**"
   ]
  },
  {
   "attachments": {},
   "cell_type": "markdown",
   "metadata": {},
   "source": [
    "Client re-hashes the public key and and compares with the hash that is sent. If they match the client proceeds to Step 5. Otherwise, the process ends here with an error message."
   ]
  },
  {
   "cell_type": "code",
   "execution_count": 993,
   "metadata": {},
   "outputs": [],
   "source": [
    "def keyReHash_client_check(pk_client,hash_client):\n",
    "    # re-Hash key\n",
    "    global out\n",
    "    out=False\n",
    "    my_sha = hashlib.sha256(pk_client)\n",
    "    hash_server = int.from_bytes(my_sha.digest(),byteorder='big')\n",
    "    if (hash_client==hash_server):\n",
    "        out=True\n",
    "        print(\"The client re-hashed the public key and Hashes match, process continues → \",'\\n'+'__________________'*6)\n",
    "    else:\n",
    "        print(\"Hashes missmatch !\",'\\n'+'__________________'*6)"
   ]
  },
  {
   "attachments": {},
   "cell_type": "markdown",
   "metadata": {},
   "source": [
    "# RSA-TLS"
   ]
  },
  {
   "attachments": {},
   "cell_type": "markdown",
   "metadata": {},
   "source": [
    "In case RSA was chosen, then the client will generate a pre-master secret and encrypt it with the public key of the server that was already sent over by the server.\n",
    "\n",
    "In RSA key exchange the public key is used in the client to encrypt the pre-master secret and the private key is used in the server to decrypt it."
   ]
  },
  {
   "attachments": {},
   "cell_type": "markdown",
   "metadata": {},
   "source": [
    "# RSA - generate Pre-master-secret (PS) and encrypt it "
   ]
  },
  {
   "cell_type": "code",
   "execution_count": 994,
   "metadata": {},
   "outputs": [],
   "source": [
    "from Crypto.Cipher import PKCS1_OAEP\n",
    "def PS_encrypt_RS(publickey):\n",
    "    # encrypt the Pre-master secret with the public key of the server\n",
    "    encryptor = PKCS1_OAEP.new(publickey)\n",
    "    # generate pre-master secret\n",
    "    global pre_masterSecret_client \n",
    "    pre_masterSecret_client= get_random_bytes(32)     #PS generated from the client \n",
    "    global pre_masterSecret_server \n",
    "    pre_masterSecret_server= get_random_bytes(32)     #PS generated from the server \n",
    "    encrypted = encryptor.encrypt(pre_masterSecret_client) # encrypt the PS\n",
    "    print(\"Pre-master secret - Client: \",pre_masterSecret_client,'\\n'+'__________________'*6)\n",
    "    print(\"Pre-master secret - Server: \",pre_masterSecret_server,'\\n'+'__________________'*6)\n",
    "    print(\"Encrypted Pre-master secret with server public key: \",encrypted,'\\n'+'__________________'*6)"
   ]
  },
  {
   "attachments": {},
   "cell_type": "markdown",
   "metadata": {},
   "source": [
    "The server will decrypt it using his private key and validate the results"
   ]
  },
  {
   "attachments": {},
   "cell_type": "markdown",
   "metadata": {},
   "source": [
    "# RSA - generate communication keys (CC,CS,IC,IS)"
   ]
  },
  {
   "cell_type": "code",
   "execution_count": 995,
   "metadata": {},
   "outputs": [],
   "source": [
    "import hmac\n",
    "import os\n",
    "def gen_communicationKeys(pre_masterSecret_client,pre_masterSecret_server,nonce_client,nonce_server):\n",
    "    # master secret generated at the client side (CC -Cipher client)\n",
    "    def prf(secret,seed,numblocks):\n",
    "        seed=seed\n",
    "        output = b''\n",
    "        a=hmac.new(secret,msg=seed,digestmod=hashlib.sha256).digest()\n",
    "        for j in range(numblocks):\n",
    "            output += hmac.new(secret,msg=a+seed,digestmod=hashlib.sha256).digest()\n",
    "            a=hmac.new(secret,msg=a,digestmod=hashlib.sha256).digest()\n",
    "        return output\n",
    "\n",
    "    def master_secret(pms,client_random,server_random):\n",
    "        out=prf(pms,client_random+server_random,2)\n",
    "        return out[:48]\n",
    "\n",
    "    global cipher_client\n",
    "    cipher_client=prf(pre_masterSecret_client,nonce_client+nonce_server,1)\n",
    "    global cipher_server\n",
    "    cipher_server=prf(pre_masterSecret_server,nonce_client+nonce_server,1)\n",
    "    global IC \n",
    "    IC= os.urandom(32) \n",
    "    global IS \n",
    "    IS= os.urandom(32) \n",
    "    print(\"Cipher Client - CC: \",'\\n',cipher_client,'\\n'+'__________________'*6)\n",
    "    print(\"Cipher Server - CS: \",'\\n',cipher_server,'\\n'+'__________________'*6)\n",
    "    print(\"Integral Key Client - IC: \",'\\n',IC,'\\n'+'__________________'*6)\n",
    "    print(\"Integral Key Server - IS: \",'\\n',IS,'\\n'+'__________________'*6)"
   ]
  },
  {
   "attachments": {},
   "cell_type": "markdown",
   "metadata": {},
   "source": [
    "# Diffie-Hellman TLS"
   ]
  },
  {
   "cell_type": "code",
   "execution_count": 996,
   "metadata": {},
   "outputs": [],
   "source": [
    "import random\n",
    "def gen_PS_DH():\n",
    "    p = random.randint(1, 100)\n",
    "    g = random.randint(1, 100)\n",
    "    a = random.randint(1, 100)\n",
    "    b = random.randint(1, 100)\n",
    "    A = ((pow(g, a)) % p)           \n",
    "    B = ((pow(g, b)) % p)\n",
    "    global pre_master_client \n",
    "    pre_master_client= ((pow(B, a)) % p)\n",
    "    global pre_master_server \n",
    "    pre_master_server= ((pow(A, b)) % p)\n",
    "    print(\"Pre-master secret - Client: \", str(pre_master_client),'\\n'+'__________________'*6)\n",
    "    print(\"Pre-master secret - Server: \",str(pre_master_server),'\\n'+'__________________'*6)"
   ]
  },
  {
   "cell_type": "code",
   "execution_count": 997,
   "metadata": {},
   "outputs": [],
   "source": [
    "global MC_str\n",
    "MC_str=str(pre_master_client).encode()\n",
    "global MS_str\n",
    "MS_str=str(pre_master_server).encode()\n",
    "def gen_communicationKeys_DH(MC_str,MS_str,nonce_client,nonce_server):\n",
    "        # master secret generated at the client side (CC -Cipher client)\n",
    "    def prf(secret,seed,numblocks):\n",
    "        seed=seed\n",
    "        output = b''\n",
    "        a=hmac.new(secret,msg=seed,digestmod=hashlib.sha256).digest()\n",
    "        for j in range(numblocks):\n",
    "            output += hmac.new(secret,msg=a+seed,digestmod=hashlib.sha256).digest()\n",
    "            a=hmac.new(secret,msg=a,digestmod=hashlib.sha256).digest()\n",
    "        return output\n",
    "\n",
    "    def master_secret(pms,client_random,server_random):\n",
    "        out=prf(pms,client_random+server_random,2)\n",
    "        return out[:48]\n",
    "\n",
    "    global cipher_client_DH\n",
    "    cipher_client_DH=prf(MC_str,nonce_client+nonce_server,1)\n",
    "    global cipher_server_DH\n",
    "    cipher_server_DH=prf(MS_str,nonce_client+nonce_server,1)\n",
    "    global IC_DH \n",
    "    IC_DH= os.urandom(32) \n",
    "    global IS_DH \n",
    "    IS_DH= os.urandom(32) \n",
    "    print(\"Cipher Client - CC: \",'\\n',cipher_client_DH,'\\n'+'__________________'*6)\n",
    "    print(\"Cipher Server - CS: \",'\\n',cipher_server_DH,'\\n'+'__________________'*6)\n",
    "    print(\"Integral Key Client - IC: \",'\\n',IC_DH,'\\n'+'__________________'*6)\n",
    "    print(\"Integral Key Server - IS: \",'\\n',IS_DH,'\\n'+'__________________'*6)"
   ]
  },
  {
   "attachments": {},
   "cell_type": "markdown",
   "metadata": {},
   "source": [
    "The client the sends the server hash(nonce_client, nonce_server, premaster secret, CC, IC). The server sends to the client hash(nonce_client, nonce_server, premaster secret, CS, IS). Each side will verify the values they received and print either a success or failure message\n"
   ]
  },
  {
   "cell_type": "code",
   "execution_count": 998,
   "metadata": {},
   "outputs": [],
   "source": [
    "def verify_values_hash():\n",
    "    sha_client = hashlib.sha256()\n",
    "    sha_server = hashlib.sha256()\n",
    "    if exchange_method_server==1: #RSA\n",
    "        # client → server\n",
    "        sha_client.update(pre_masterSecret_client)\n",
    "        sha_client.update(nonce_client)\n",
    "        sha_client.update(nonce_server)\n",
    "        sha_client.update(cipher_client)\n",
    "        sha_client.update(IC)   \n",
    "        # server → client\n",
    "        sha_server.update(pre_masterSecret_server)\n",
    "        sha_server.update(nonce_client)\n",
    "        sha_server.update(nonce_server)\n",
    "        sha_server.update(cipher_server)\n",
    "        sha_server.update(IS)\n",
    "        print(\"Client hash: \",'\\n',sha_client.digest(),'\\n'+'__________________'*6)\n",
    "        print(\"Server hash: \",'\\n',sha_server.digest(),'\\n'+'__________________'*6)\n",
    "    else: #DH\n",
    "        # client → server\n",
    "        sha_client.update(MC_str)\n",
    "        sha_client.update(nonce_client)\n",
    "        sha_client.update(nonce_server)\n",
    "        sha_client.update(cipher_client_DH)\n",
    "        sha_client.update(IC_DH) \n",
    "        # server → client \n",
    "        sha_server.update(MS_str)\n",
    "        sha_server.update(nonce_client)\n",
    "        sha_server.update(nonce_server)\n",
    "        sha_server.update(cipher_server_DH)\n",
    "        sha_server.update(IS_DH)\n",
    "        print(\"Client hash: \",'\\n',sha_client.digest(),'\\n'+'__________________'*6)\n",
    "        print(\"Server hash: \",'\\n',sha_server.digest(),'\\n'+'__________________'*6)\n",
    "    if sha_client==sha_server:\n",
    "        print(\"SUCCESS !!!!\")\n",
    "    else:\n",
    "        print(\"FAILURE !!!!\")"
   ]
  },
  {
   "cell_type": "code",
   "execution_count": 999,
   "metadata": {},
   "outputs": [
    {
     "name": "stdout",
     "output_type": "stream",
     "text": [
      "____________________________________________________________________________________________________________ \n",
      "Nonce-client:  \n",
      " b'\\xd5w\\xf1\\x88\\xf8\\x01h\\x8c\\xe9;\\xb1\\x1am\\x10+\\xd2\\xef\\xeb\\xa7X\\xa7\\xa4\\x07\\xae\\xfa\\x87\\x82\\x9f\\xf6\\xa1\\x90\\x91' \n",
      "\n",
      "Exchange method-client: 1 ____________________________________________________________________________________________________________\n",
      "Nonce-server:  \n",
      " b'\\rR\\xdf\\x1dBm\\xd0b\\x98\\x7f\\xc8z\\x96f\\x99\\xe2\\x86\\xc8\\xac\\xe0C\\xc7\\xddW\\x17W\\xc8\"\\xb8\\x0e\\x02i' \n",
      "\n",
      "Exchange method-server that was chosen: Diffie-Hellman \n",
      "____________________________________________________________________________________________________________\n",
      "Sent to client: {public key, hash(public key)}  \n",
      "↓↓↓↓↓↓↓↓↓↓↓↓ \n",
      "\n",
      "Public key : \n",
      " -----BEGIN PUBLIC KEY-----\n",
      "MIIBIjANBgkqhkiG9w0BAQEFAAOCAQ8AMIIBCgKCAQEArQ281+MukXGV0UWgyqAC\n",
      "1nrgp9H7DM9fGVGO3+TmHzxOj2jCbA5eAoW3oOggsijlQ/avqvLiNuaVO7RSykmr\n",
      "JrzuhLP1lafoec56z+4g6ViFZC/GpqUBdSy5f4WKMGvcNWCapoVzEwJANIEClWI4\n",
      "ON15PFTDjB8l6C7tAlHp67hC72J4FwRyoTs7yF5U7IUdaWQWV29QhOIPqqQrjUUU\n",
      "FrjLohifWU8aY3BJxJEbDpMzTiSKhkS8pd2ZCFzXIvhTn9Nqs6zHrZGjGXlN00f4\n",
      "QxWIQqLTBavrz6WU08qc2DgHorM0PVSljzQR7QQRxAHgaPb3T30eMPtRsgHs9Sh/\n",
      "wQIDAQAB\n",
      "-----END PUBLIC KEY----- \n",
      "\n",
      "Generated hash : 63603516479040304694260813005824026700686861797170070794349048777899903172869 \n",
      "____________________________________________________________________________________________________________\n",
      "The client re-hashed the public key and Hashes match, process continues →  \n",
      "____________________________________________________________________________________________________________\n",
      "Pre-master secret - Client:  8 \n",
      "____________________________________________________________________________________________________________\n",
      "Pre-master secret - Server:  8 \n",
      "____________________________________________________________________________________________________________\n",
      "Cipher Client - CC:  \n",
      " b'\\x83\\xd0\\xbd5t\\xa8 7u<\\xff\\x84M!O\\xe3\\x8c\\xde\\xea\\x05\\xf0G\\xd6\\xc1\\xdb\\x8a\\x8c\\x8c\\xf2!\\xaeT' \n",
      "____________________________________________________________________________________________________________\n",
      "Cipher Server - CS:  \n",
      " b'\\x83\\xd0\\xbd5t\\xa8 7u<\\xff\\x84M!O\\xe3\\x8c\\xde\\xea\\x05\\xf0G\\xd6\\xc1\\xdb\\x8a\\x8c\\x8c\\xf2!\\xaeT' \n",
      "____________________________________________________________________________________________________________\n",
      "Integral Key Client - IC:  \n",
      " b'2\\x83\\xe4\\xb3F\\xd6\\xc5\\x000\\xb2\\xc5\\xf0\\xa6\\xd5\\xa2=\\x89\\x14\\xb4\\x8b\\xe2\\xd6e\\xf8\\xd3\\x13\\x81\\x8b\\xab\\xab\\xdb\\xea' \n",
      "____________________________________________________________________________________________________________\n",
      "Integral Key Server - IS:  \n",
      " b'\\x1e\\x0c]\\xbc\\xd7\\xa4\\xbe>\\x88(t\\xb2Q\\xe5;\\xec\\xf5\\x12V\\xb5\\xa3\\x0c\\xe1\\x00\\xf6~$\\xa0\\xad\\xd5\\xe4h' \n",
      "____________________________________________________________________________________________________________\n",
      "Client hash:  \n",
      " b'\\x07m\\xd7\\xee\\xd6\"W\\xb1-\\xdb\\xf2\\xa8\\xae\\xe4\\xa7\\xf3\\xb4\\xeb\\x1d\\xe63\\x1a\\xf9\\x12\\xad\\x91\\x13\\xb8\\n\\xec\\x90\\xff' \n",
      "____________________________________________________________________________________________________________\n",
      "Server hash:  \n",
      " b'\\x8fF\\xb3hwsv\\xdcK=\\xe9c\\xbe\\x12\\xec\\xd3rs4\\x0f\\x94\\xedV\\xec\\xc3\\xd1\\xc4\\xbb\\x0b\\xe4\\xacK' \n",
      "____________________________________________________________________________________________________________\n",
      "FAILURE !!!!\n"
     ]
    }
   ],
   "source": [
    "def TLS_handshake():\n",
    "    getClientNonce()\n",
    "    getServerNonce()\n",
    "    generateRSA_key()\n",
    "    hashKey_server(key)\n",
    "    keyReHash_client_check(pk_client,hash_client)\n",
    "    if out==True:\n",
    "        if exchange_method_server==1:\n",
    "            PS_encrypt_RS(publickey)\n",
    "            gen_communicationKeys(pre_masterSecret_client,pre_masterSecret_server,nonce_client,nonce_server)\n",
    "        else:\n",
    "            gen_PS_DH()\n",
    "            gen_communicationKeys_DH(MC_str,MS_str,nonce_client,nonce_server)\n",
    "        verify_values_hash()\n",
    "    else:\n",
    "        print('The hashes missmatch, process stopped !')\n",
    "TLS_handshake()"
   ]
  },
  {
   "cell_type": "code",
   "execution_count": null,
   "metadata": {},
   "outputs": [],
   "source": []
  }
 ],
 "metadata": {
  "kernelspec": {
   "display_name": "Python 3",
   "language": "python",
   "name": "python3"
  },
  "language_info": {
   "codemirror_mode": {
    "name": "ipython",
    "version": 3
   },
   "file_extension": ".py",
   "mimetype": "text/x-python",
   "name": "python",
   "nbconvert_exporter": "python",
   "pygments_lexer": "ipython3",
   "version": "3.10.7"
  },
  "orig_nbformat": 4,
  "vscode": {
   "interpreter": {
    "hash": "369f2c481f4da34e4445cda3fffd2e751bd1c4d706f27375911949ba6bb62e1c"
   }
  }
 },
 "nbformat": 4,
 "nbformat_minor": 2
}
