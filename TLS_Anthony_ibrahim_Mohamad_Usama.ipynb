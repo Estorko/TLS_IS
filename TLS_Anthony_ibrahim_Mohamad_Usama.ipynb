{
 "cells": [
  {
   "attachments": {},
   "cell_type": "markdown",
   "metadata": {},
   "source": [
    "# Simulation of TLS handshake"
   ]
  },
  {
   "attachments": {},
   "cell_type": "markdown",
   "metadata": {},
   "source": [
    "Name: Anthony Ibrahim\n",
    "\n",
    "ID: 49-10849\n",
    "\n",
    "Tutorial: T2\n",
    "\n",
    "---\n",
    "\n",
    "Name: Mohamad Usama\n",
    "\n",
    "ID: 49-8386\n",
    "\n",
    "Tutorial: T5\n",
    "\n",
    "---"
   ]
  },
  {
   "cell_type": "code",
   "execution_count": 37,
   "metadata": {},
   "outputs": [],
   "source": [
    "\"\"\" # Please remove the triple quotes in this line if the pip installation of the libraries is needed\n",
    "import warnings\n",
    "warnings.filterwarnings('ignore')\n",
    "warnings.simplefilter('ignore')\n",
    "%pip install pycryptodome\n",
    "%pip install cryptography\n",
    "%pip install requests --disable-pip-version-check \"\"\";"
   ]
  },
  {
   "attachments": {},
   "cell_type": "markdown",
   "metadata": {},
   "source": [
    "**Client side**\n",
    "\n",
    "The client generates a nonce of size 32 bytes. The client sends the nonce to the server along with a flag that is set to 1 if RSA will be used for key exchange, and set to zero if Diffie-Hellman will be used"
   ]
  },
  {
   "cell_type": "code",
   "execution_count": 38,
   "metadata": {},
   "outputs": [],
   "source": [
    "import random\n",
    "from Crypto.Random import get_random_bytes\n",
    "\n",
    "def getClientNonce():\n",
    "    # generate random nonce, size 32 bytes → 256-bit\n",
    "    global nonce_client \n",
    "    nonce_client= get_random_bytes(32)    #RB\n",
    "    # specify exchange method → 0=Diffie-Hellman / 1=RSA\n",
    "    exchange_method_client=random.randint(0,1)\n",
    "    print('__________________'*6,'\\n'+\"Nonce-client: \",'\\n',nonce_client,'\\n')\n",
    "    print(\"Exchange method-client:\",exchange_method_client,'__________________'*6)"
   ]
  },
  {
   "attachments": {},
   "cell_type": "markdown",
   "metadata": {},
   "source": [
    "**Server side**\n",
    "\n",
    "The server responds with another nonce of size 32 bytes and a flag indicating the choice of key exchange algorithm."
   ]
  },
  {
   "cell_type": "code",
   "execution_count": 39,
   "metadata": {},
   "outputs": [],
   "source": [
    "def getServerNonce():\n",
    "    # generate random nonce, size 32 bytes → 256-bit\n",
    "    global nonce_server \n",
    "    nonce_server= get_random_bytes(32)     #RS\n",
    "    # specify exchange method → 0=Diffie-Hellman / 1=RSA\n",
    "    global exchange_method_server\n",
    "    exchange_method_server=random.randint(0,1)\n",
    "    print(\"Nonce-server: \",'\\n',nonce_server,'\\n')\n",
    "    if exchange_method_server==1:\n",
    "        print(\"Exchange method-server that was chosen: RSA\",'\\n'+'__________________'*6)\n",
    "    else:\n",
    "        print(\"Exchange method-server that was chosen: Diffie-Hellman\",'\\n'+'__________________'*6)"
   ]
  },
  {
   "attachments": {},
   "cell_type": "markdown",
   "metadata": {},
   "source": [
    "**Generate RSA KEY pair**\n",
    "\n",
    "The server randomly generates a pair of RSA public/private keys and sends to the client {public key, hash(public key)}. This constitutes the certificate."
   ]
  },
  {
   "cell_type": "code",
   "execution_count": 40,
   "metadata": {},
   "outputs": [],
   "source": [
    "from Crypto.PublicKey import RSA\n",
    "def generateRSA_key():\n",
    "    # generate RSA key pair\n",
    "    global key \n",
    "    key= RSA.generate(2048)\n",
    "    global publickey\n",
    "    publickey = key.publickey()     # for later use (public key)\n",
    "    pu_key=key.publickey().exportKey()\n",
    "    # private key\n",
    "    priv_key=key.exportKey()\n",
    "    # print(\"Generated Public Key: \",'\\n',pu_key.decode(),'\\n'+'__________________'*6)\n",
    "    # print(priv_key.decode())  #private key"
   ]
  },
  {
   "attachments": {},
   "cell_type": "markdown",
   "metadata": {},
   "source": [
    "**Key hashing-server side**"
   ]
  },
  {
   "cell_type": "code",
   "execution_count": 41,
   "metadata": {},
   "outputs": [],
   "source": [
    "import hashlib\n",
    "from hashlib import sha256\n",
    "\n",
    "def hashKey_server(key):\n",
    "    # Hash key \n",
    "    global pk_client\n",
    "    pk_client=key.public_key().export_key()\n",
    "    my_sha = hashlib.sha256(pk_client)\n",
    "    global hash_client \n",
    "    hash_client= int.from_bytes(my_sha.digest(),byteorder='big')\n",
    "    print(\"Sent to client: {public key, hash(public key)} \",'\\n'+'↓↓↓↓↓↓↓↓↓↓↓↓','\\n')\n",
    "    print(\"Public key :\",'\\n',pk_client.decode(),'\\n')\n",
    "    print(\"Generated hash :\",hash_client,'\\n'+'__________________'*6)"
   ]
  },
  {
   "attachments": {},
   "cell_type": "markdown",
   "metadata": {},
   "source": [
    "**Key re-hashing-client**"
   ]
  },
  {
   "attachments": {},
   "cell_type": "markdown",
   "metadata": {},
   "source": [
    "Client re-hashes the public key and and compares with the hash that is sent. If they match the client proceeds to Step 5. Otherwise, the process ends here with an error message."
   ]
  },
  {
   "cell_type": "code",
   "execution_count": 42,
   "metadata": {},
   "outputs": [],
   "source": [
    "def keyReHash_client_check(pk_client,hash_client):\n",
    "    # re-Hash key\n",
    "    global out\n",
    "    out=False\n",
    "    my_sha = hashlib.sha256(pk_client)\n",
    "    hash_server = int.from_bytes(my_sha.digest(),byteorder='big')\n",
    "    if (hash_client==hash_server):\n",
    "        out=True\n",
    "        print(\"The client re-hashed the public key and Hashes match, process continues → \",'\\n'+'__________________'*6)\n",
    "    else:\n",
    "        print(\"Hashes missmatch !\",'\\n'+'__________________'*6)"
   ]
  },
  {
   "attachments": {},
   "cell_type": "markdown",
   "metadata": {},
   "source": [
    "# RSA-TLS"
   ]
  },
  {
   "attachments": {},
   "cell_type": "markdown",
   "metadata": {},
   "source": [
    "In case RSA was chosen, then the client will generate a pre-master secret and encrypt it with the public key of the server that was already sent over by the server.\n",
    "\n",
    "In RSA key exchange the public key is used in the client to encrypt the pre-master secret and the private key is used in the server to decrypt it."
   ]
  },
  {
   "attachments": {},
   "cell_type": "markdown",
   "metadata": {},
   "source": [
    "# RSA - generate Pre-master-secret (PS) and encrypt it "
   ]
  },
  {
   "cell_type": "code",
   "execution_count": 43,
   "metadata": {},
   "outputs": [],
   "source": [
    "from Crypto.Cipher import PKCS1_OAEP\n",
    "def PS_encrypt_RS(publickey):\n",
    "    # encrypt the Pre-master secret with the public key of the server\n",
    "    encryptor = PKCS1_OAEP.new(publickey)\n",
    "    # generate pre-master secret\n",
    "    global pre_masterSecret_client \n",
    "    pre_masterSecret_client= get_random_bytes(32)     #PS generated from the client \n",
    "    global pre_masterSecret_server \n",
    "    pre_masterSecret_server= get_random_bytes(32)     #PS generated from the server \n",
    "    encrypted = encryptor.encrypt(pre_masterSecret_client) # encrypt the PS\n",
    "    print(\"Pre-master secret - Client: \",pre_masterSecret_client,'\\n'+'__________________'*6)\n",
    "    print(\"Pre-master secret - Server: \",pre_masterSecret_server,'\\n'+'__________________'*6)\n",
    "    print(\"Encrypted Pre-master secret with server public key: \",encrypted,'\\n'+'__________________'*6)"
   ]
  },
  {
   "attachments": {},
   "cell_type": "markdown",
   "metadata": {},
   "source": [
    "The server will decrypt it using his private key and validate the results"
   ]
  },
  {
   "attachments": {},
   "cell_type": "markdown",
   "metadata": {},
   "source": [
    "# RSA - generate communication keys (CC,CS,IC,IS)"
   ]
  },
  {
   "cell_type": "code",
   "execution_count": 44,
   "metadata": {},
   "outputs": [],
   "source": [
    "import hmac\n",
    "import os\n",
    "def gen_communicationKeys(pre_masterSecret_client,pre_masterSecret_server,nonce_client,nonce_server):\n",
    "    # master secret generated at the client side (CC -Cipher client)\n",
    "    def prf(secret,seed,numblocks):\n",
    "        seed=seed\n",
    "        output = b''\n",
    "        a=hmac.new(secret,msg=seed,digestmod=hashlib.sha256).digest()\n",
    "        for j in range(numblocks):\n",
    "            output += hmac.new(secret,msg=a+seed,digestmod=hashlib.sha256).digest()\n",
    "            a=hmac.new(secret,msg=a,digestmod=hashlib.sha256).digest()\n",
    "        return output\n",
    "\n",
    "    def master_secret(pms,client_random,server_random):\n",
    "        out=prf(pms,client_random+server_random,2)\n",
    "        return out[:48]\n",
    "\n",
    "    global cipher_client\n",
    "    cipher_client=prf(pre_masterSecret_client,nonce_client+nonce_server,1)\n",
    "    global cipher_server\n",
    "    cipher_server=prf(pre_masterSecret_server,nonce_client+nonce_server,1)\n",
    "    global IC \n",
    "    IC= os.urandom(32) \n",
    "    global IS \n",
    "    IS= os.urandom(32) \n",
    "    print(\"Cipher Client - CC: \",'\\n',cipher_client,'\\n'+'__________________'*6)\n",
    "    print(\"Cipher Server - CS: \",'\\n',cipher_server,'\\n'+'__________________'*6)\n",
    "    print(\"Integral Key Client - IC: \",'\\n',IC,'\\n'+'__________________'*6)\n",
    "    print(\"Integral Key Server - IS: \",'\\n',IS,'\\n'+'__________________'*6)"
   ]
  },
  {
   "attachments": {},
   "cell_type": "markdown",
   "metadata": {},
   "source": [
    "# Diffie-Hellman TLS"
   ]
  },
  {
   "attachments": {},
   "cell_type": "markdown",
   "metadata": {},
   "source": [
    "Calculate Pre-master secret for client / server"
   ]
  },
  {
   "cell_type": "code",
   "execution_count": 45,
   "metadata": {},
   "outputs": [],
   "source": [
    "import random\n",
    "def gen_PS_DH():\n",
    "    p = random.randint(1, 100)\n",
    "    g = random.randint(1, 100)\n",
    "    a = random.randint(1, 100)\n",
    "    b = random.randint(1, 100)\n",
    "    A = ((pow(g, a)) % p)           \n",
    "    B = ((pow(g, b)) % p)\n",
    "    global pre_master_client \n",
    "    pre_master_client= ((pow(B, a)) % p)\n",
    "    global pre_master_server \n",
    "    pre_master_server= ((pow(A, b)) % p)\n",
    "    print(\"Pre-master secret - Client: \", str(pre_master_client),'\\n'+'__________________'*6)\n",
    "    print(\"Pre-master secret - Server: \",str(pre_master_server),'\\n'+'__________________'*6)"
   ]
  },
  {
   "attachments": {},
   "cell_type": "markdown",
   "metadata": {},
   "source": [
    "# DH - generate communication keys (CC,CS,IC,IS)"
   ]
  },
  {
   "cell_type": "code",
   "execution_count": 46,
   "metadata": {},
   "outputs": [],
   "source": [
    "def DH_exchange():\n",
    "    gen_PS_DH()\n",
    "    global MC_str\n",
    "    MC_str=str(pre_master_client).encode()\n",
    "    global MS_str\n",
    "    MS_str=str(pre_master_server).encode()\n",
    "    def gen_communicationKeys_DH(MC_str,MS_str,nonce_client,nonce_server):\n",
    "            # master secret generated at the client side (CC -Cipher client)\n",
    "        def prf(secret,seed,numblocks):\n",
    "            seed=seed\n",
    "            output = b''\n",
    "            a=hmac.new(secret,msg=seed,digestmod=hashlib.sha256).digest()\n",
    "            for j in range(numblocks):\n",
    "                output += hmac.new(secret,msg=a+seed,digestmod=hashlib.sha256).digest()\n",
    "                a=hmac.new(secret,msg=a,digestmod=hashlib.sha256).digest()\n",
    "            return output\n",
    "\n",
    "        def master_secret(pms,client_random,server_random):\n",
    "            out=prf(pms,client_random+server_random,2)\n",
    "            return out[:48]\n",
    "\n",
    "        global cipher_client_DH\n",
    "        cipher_client_DH=prf(MC_str,nonce_client+nonce_server,1)\n",
    "        global cipher_server_DH\n",
    "        cipher_server_DH=prf(MS_str,nonce_client+nonce_server,1)\n",
    "        global IC_DH \n",
    "        IC_DH= os.urandom(32) \n",
    "        global IS_DH \n",
    "        IS_DH= os.urandom(32) \n",
    "        print(\"Cipher Client - CC: \",'\\n',cipher_client_DH,'\\n'+'__________________'*6)\n",
    "        print(\"Cipher Server - CS: \",'\\n',cipher_server_DH,'\\n'+'__________________'*6)\n",
    "        print(\"Integral Key Client - IC: \",'\\n',IC_DH,'\\n'+'__________________'*6)\n",
    "        print(\"Integral Key Server - IS: \",'\\n',IS_DH,'\\n'+'__________________'*6)\n",
    "    gen_communicationKeys_DH(MC_str,MS_str,nonce_client,nonce_server)"
   ]
  },
  {
   "attachments": {},
   "cell_type": "markdown",
   "metadata": {},
   "source": [
    "The client the sends the server hash(nonce_client, nonce_server, premaster secret, CC, IC). The server sends to the client hash(nonce_client, nonce_server, premaster secret, CS, IS). Each side will verify the values they received and print either a success or failure message\n"
   ]
  },
  {
   "cell_type": "code",
   "execution_count": 47,
   "metadata": {},
   "outputs": [],
   "source": [
    "def verify_values_hash():\n",
    "    sha_client = hashlib.sha256()\n",
    "    sha_server = hashlib.sha256()\n",
    "    if exchange_method_server==1: #RSA\n",
    "        # client → server\n",
    "        sha_client.update(pre_masterSecret_client)\n",
    "        sha_client.update(nonce_client)\n",
    "        sha_client.update(nonce_server)\n",
    "        sha_client.update(cipher_client)\n",
    "        sha_client.update(IC)   \n",
    "        # server → client\n",
    "        sha_server.update(pre_masterSecret_server)\n",
    "        sha_server.update(nonce_client)\n",
    "        sha_server.update(nonce_server)\n",
    "        sha_server.update(cipher_server)\n",
    "        sha_server.update(IS)\n",
    "        print(\"Client hash: \",'\\n',sha_client.digest(),'\\n'+'__________________'*6)\n",
    "        print(\"Server hash: \",'\\n',sha_server.digest(),'\\n'+'__________________'*6)\n",
    "    else: #DH\n",
    "        # client → server\n",
    "        sha_client.update(MC_str)\n",
    "        sha_client.update(nonce_client)\n",
    "        sha_client.update(nonce_server)\n",
    "        sha_client.update(cipher_client_DH)\n",
    "        sha_client.update(IC_DH) \n",
    "        # server → client \n",
    "        sha_server.update(MS_str)\n",
    "        sha_server.update(nonce_client)\n",
    "        sha_server.update(nonce_server)\n",
    "        sha_server.update(cipher_server_DH)\n",
    "        sha_server.update(IS_DH)\n",
    "        print(\"Client hash: \",'\\n',sha_client.digest(),'\\n'+'__________________'*6)\n",
    "        print(\"Server hash: \",'\\n',sha_server.digest(),'\\n'+'__________________'*6)\n",
    "    if sha_client==sha_server:\n",
    "        print(\"SUCCESS !!!!\")\n",
    "    else:\n",
    "        print(\"FAILURE !!!!\")"
   ]
  },
  {
   "attachments": {},
   "cell_type": "markdown",
   "metadata": {},
   "source": [
    "**Main method to print the results**"
   ]
  },
  {
   "cell_type": "code",
   "execution_count": 48,
   "metadata": {},
   "outputs": [
    {
     "name": "stdout",
     "output_type": "stream",
     "text": [
      "____________________________________________________________________________________________________________ \n",
      "Nonce-client:  \n",
      " b'Qk\\xd4\\xa4Us\\x08\\x01\\x95\\xba\\x8a~\\x83\\xdc\\xfa\\xa1Qf8\\x90S\\x0f.\\x1f%\\x17\\xc2x\\xd9\\xcb\\xb0R' \n",
      "\n",
      "Exchange method-client: 1 ____________________________________________________________________________________________________________\n",
      "Nonce-server:  \n",
      " b'e\\x02\\x84{\\xf1\\x12\\x10\\xaf(\\xb2\\x1b\\xa0\\xfe\\xb9\\xa1?q\\xb3,\\xeb\\xfa\\x1ct\\x84;\\x84YMas\\x96\\xff' \n",
      "\n",
      "Exchange method-server that was chosen: RSA \n",
      "____________________________________________________________________________________________________________\n",
      "Sent to client: {public key, hash(public key)}  \n",
      "↓↓↓↓↓↓↓↓↓↓↓↓ \n",
      "\n",
      "Public key : \n",
      " -----BEGIN PUBLIC KEY-----\n",
      "MIIBIjANBgkqhkiG9w0BAQEFAAOCAQ8AMIIBCgKCAQEAuH2prYt9MNvyAAtL2FNF\n",
      "opaswSGAQ5YOH9y1vHz1rf3mWaG7UjBO9phHYd52viMSZ9ySAH4iqd5qDeDL+D6t\n",
      "TL9kQYjdbYLmmkpXjMhJYlIVc/vfkGqghSd9WgzsRwH+JBKclGQLiymDx8ux9xsd\n",
      "wao8qptinDfD0elcmBdFwSnemCu38EsEDpW5zTXUK7F4TamGOnnXMeHNs0wsW8xO\n",
      "sb36ZVemsy2CJgZMiPhE2ohgoD36h5rolWxzYC7f2IkWUNaMgI+Ixw528RZyxVCU\n",
      "pwwXLk/i4bkqpNSJrc7vbwPTTjD+Sx9UyPWxj+aHbF7ta3lm5lUVx0V27VJoF3ur\n",
      "IQIDAQAB\n",
      "-----END PUBLIC KEY----- \n",
      "\n",
      "Generated hash : 49918709807841554464923408754637036201116269652372394398658863050853188736314 \n",
      "____________________________________________________________________________________________________________\n",
      "The client re-hashed the public key and Hashes match, process continues →  \n",
      "____________________________________________________________________________________________________________\n",
      "Pre-master secret - Client:  b'c\\xbd\\x15\\x14E`\\xe6eC\\x87b@\\xfa\\xc2\\x85\\xd5\\xdf\\xb3\\xeb\\xd4_\\xe2\\x18\\x06\"\\xb1\\xe3\\x1e\\xcdl\\x1a\\xcd' \n",
      "____________________________________________________________________________________________________________\n",
      "Pre-master secret - Server:  b'n\\xb1\\x80\\x8bt\\xf4RQz@\\x1d:,\\xa5\\x8c\\x1d\\xa9\\xddfz\\xdd\\xb5/\\xbfP\\x82tj\\x10\\x83\\x1f\\x92' \n",
      "____________________________________________________________________________________________________________\n",
      "Encrypted Pre-master secret with server public key:  b\"\\x7f\\x8dm*\\t\\xe7\\xf9\\x15\\xe9\\xa9\\xd3\\xee6H\\xd5m\\x03E\\x82U[(\\x81\\xfcX@ \\x8d \\xca\\xe6\\xa90\\x8f\\xaf\\xd6r7\\x1f\\xae7\\x12?S\\xe0O'&\\x99r\\x9e\\x8c\\xdb\\x1eW.\\xe0\\x1c\\xe6JW\\xf9\\xfb\\x05X\\x16\\xa6_'\\xd7B\\xdbp\\xe3u\\xbb\\x91|\\xd9\\x9b5\\x8fQ:\\x7f>m\\xd1+3\\xf1\\xe7\\x87G+\\xb4ENy<\\xa2\\xf4\\x1a\\xe5\\x0e\\xdeg\\x04\\xf5\\x05pTP4\\xd1$*\\xa5\\xed\\x8dh\\xa3$RG\\xbb\\\\\\xf0\\xefk\\x13\\xcf\\xb1-\\xd5UVT)51p\\xd65\\xea_\\x853[\\xe0\\x95\\xa5Z\\x1cx\\x9f\\xd3\\xaa\\x1bH\\t=m?\\xbc\\x9b\\x12\\x95A\\xa7kR/\\xfc\\xfb[\\x81\\x8d[\\x8d\\xfa\\x1br\\xe8\\x0f\\x04\\xe7\\x14\\x82Q\\xc7D\\xea\\xafE$\\x85\\x8d\\xc7\\xd0\\xa3\\rF;Ey:!\\x03W'\\x7f\\xda\\xdaq\\x14A)n\\x9bn\\x0e?\\xffX\\xd91g|\\xc7<JZ\\xd0\\xb5\\x9dC\\xc8\\xfb\\xd1;\\x00%\\xcf\\xe3\\x00\\x174B\\xbb\\\\\\xd5'\\x9duN\" \n",
      "____________________________________________________________________________________________________________\n",
      "Cipher Client - CC:  \n",
      " b'\\xd3w\\x04\\xcc\\x0f\\xde\\x96\\x14\\xdaDo\\xaf\\xcb%\\x93\\x0eswd~\\x04\\xfc[^\\xa0\\xbd\\xa4\\x00\\x9c\\xc7P/' \n",
      "____________________________________________________________________________________________________________\n",
      "Cipher Server - CS:  \n",
      " b'\\xeb\\x07\\x12\\xb2x\\xaec\\xbc\\x1b\\xe8\\xcf\\xd4\\xb2S\\x90^\\xef\\xd6\\xaa\\xa6\\xbd\\x983\\xb2\\xc6\\x12A\\x7f\\xd0\\xac\\xaa\\xdc' \n",
      "____________________________________________________________________________________________________________\n",
      "Integral Key Client - IC:  \n",
      " b'\\x150=\\xea\\xb0a\\x8d\\xa9Y\\xe4\\x05W\\xba\\xd6\\x94>\\xdf3XT!\\xd4\\xf9\\xebj\\xcc\\x80\\xd1\\x8e-\\xfb(' \n",
      "____________________________________________________________________________________________________________\n",
      "Integral Key Server - IS:  \n",
      " b'\\x11\\xe9\\xb7gV\\x92:S\\xe4\\x1e\\xcd\\x9f\\x01\\x9e\\x8ag+\\x85\\xf1X`{\\xa7\\x97\\xcf\\x8dA\\xa0\\xb2uA\\x94' \n",
      "____________________________________________________________________________________________________________\n",
      "Client hash:  \n",
      " b'\\xb2\\x1f\\xf6\\x04\\xc5\\x01F|7\\xf4\\xdb\\xe2{\\xcd\\xb3\\x94\\x8d\\xcf4\\xdb\\xbf!\\xfb\\x99\\xe7\\x83E^^6\\xdb\\xcf' \n",
      "____________________________________________________________________________________________________________\n",
      "Server hash:  \n",
      " b'S\\xceE\\x93\\xb6y\\xc0\\xa1~s\\x0e\\xef/\\x9co\\x16r\\x99I]c\\xfb^\\x95\\xed\\xd5\\x16L\\xceQ\\x8ak' \n",
      "____________________________________________________________________________________________________________\n",
      "FAILURE !!!!\n"
     ]
    }
   ],
   "source": [
    "def TLS_handshake():\n",
    "    getClientNonce()\n",
    "    getServerNonce()\n",
    "    generateRSA_key()\n",
    "    hashKey_server(key)\n",
    "    keyReHash_client_check(pk_client,hash_client)\n",
    "    if out==True:\n",
    "        if exchange_method_server==1:\n",
    "            PS_encrypt_RS(publickey)\n",
    "            gen_communicationKeys(pre_masterSecret_client,pre_masterSecret_server,nonce_client,nonce_server)\n",
    "        else:\n",
    "            DH_exchange()\n",
    "        verify_values_hash()\n",
    "    else:\n",
    "        print('The hashes missmatch, process stopped !')\n",
    "TLS_handshake()"
   ]
  }
 ],
 "metadata": {
  "kernelspec": {
   "display_name": "Python 3",
   "language": "python",
   "name": "python3"
  },
  "language_info": {
   "codemirror_mode": {
    "name": "ipython",
    "version": 3
   },
   "file_extension": ".py",
   "mimetype": "text/x-python",
   "name": "python",
   "nbconvert_exporter": "python",
   "pygments_lexer": "ipython3",
   "version": "3.10.7"
  },
  "orig_nbformat": 4,
  "vscode": {
   "interpreter": {
    "hash": "369f2c481f4da34e4445cda3fffd2e751bd1c4d706f27375911949ba6bb62e1c"
   }
  }
 },
 "nbformat": 4,
 "nbformat_minor": 2
}
